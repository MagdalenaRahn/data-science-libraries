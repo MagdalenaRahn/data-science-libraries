{
 "cells": [
  {
   "cell_type": "code",
   "execution_count": 1,
   "id": "22a5c2dd",
   "metadata": {},
   "outputs": [
    {
     "data": {
      "text/plain": [
       "12"
      ]
     },
     "execution_count": 1,
     "metadata": {},
     "output_type": "execute_result"
    }
   ],
   "source": [
    "import numpy as np\n",
    "from scipy import stats\n",
    "\n",
    "from statistics import mean\n",
    "import itertools as itt\n",
    "\n",
    "# Use the following code for the questions below:\n",
    "\n",
    "a = np.array([4, 10, 12, 23, -2, -1, 0, 0, 0, -6, 3, -7])\n",
    "len(a)"
   ]
  },
  {
   "cell_type": "code",
   "execution_count": 2,
   "id": "cb4a9ffd",
   "metadata": {},
   "outputs": [
    {
     "data": {
      "text/plain": [
       "4"
      ]
     },
     "execution_count": 2,
     "metadata": {},
     "output_type": "execute_result"
    }
   ],
   "source": [
    "# 1 \n",
    "# How many negative numbers are there?\n",
    "ab = sum(a < 0)\n",
    "ab"
   ]
  },
  {
   "cell_type": "code",
   "execution_count": 3,
   "id": "7473304f",
   "metadata": {},
   "outputs": [
    {
     "data": {
      "text/plain": [
       "5"
      ]
     },
     "execution_count": 3,
     "metadata": {},
     "output_type": "execute_result"
    }
   ],
   "source": [
    "# 2 \n",
    "# How many positive numbers are there?\n",
    "\n",
    "ac = sum(a > 0)\n",
    "ac"
   ]
  },
  {
   "cell_type": "code",
   "execution_count": 4,
   "id": "4d6ef4c3",
   "metadata": {},
   "outputs": [
    {
     "data": {
      "text/plain": [
       "3"
      ]
     },
     "execution_count": 4,
     "metadata": {},
     "output_type": "execute_result"
    }
   ],
   "source": [
    "# 3\n",
    "# How many even positive numbers are there?\n",
    "\n",
    "ad = a[(a > 0) & (a % 2 == 0)]\n",
    "ad\n",
    "\n",
    "len(ad)\n",
    "\n"
   ]
  },
  {
   "cell_type": "code",
   "execution_count": 5,
   "id": "d4e35e70",
   "metadata": {},
   "outputs": [
    {
     "data": {
      "text/plain": [
       "array([ 7, 13, 15, 26,  1,  2,  3,  3,  3, -3,  6, -4])"
      ]
     },
     "execution_count": 5,
     "metadata": {},
     "output_type": "execute_result"
    }
   ],
   "source": [
    "# 4\n",
    "# If you were to add 3 to each data point, how many positive numbers would there be?\n",
    "\n",
    "ae = np.array(a + 3)\n",
    "ae"
   ]
  },
  {
   "cell_type": "code",
   "execution_count": 6,
   "id": "02ccf29d",
   "metadata": {},
   "outputs": [
    {
     "data": {
      "text/plain": [
       "array([ 16, 100, 144, 529,   4,   1,   0,   0,   0,  36,   9,  49])"
      ]
     },
     "execution_count": 6,
     "metadata": {},
     "output_type": "execute_result"
    }
   ],
   "source": [
    "# 5\n",
    "# If you squared each number, what would the new mean and standard deviation be?\n",
    "\n",
    "af = np.array(a ** 2)\n",
    "af\n"
   ]
  },
  {
   "cell_type": "code",
   "execution_count": 7,
   "id": "45e46f42",
   "metadata": {},
   "outputs": [
    {
     "data": {
      "text/plain": [
       "(74.0, 144.0243)"
      ]
     },
     "execution_count": 7,
     "metadata": {},
     "output_type": "execute_result"
    }
   ],
   "source": [
    "af.mean(), round(af.std(), 4)"
   ]
  },
  {
   "cell_type": "code",
   "execution_count": 8,
   "id": "f2200722",
   "metadata": {},
   "outputs": [
    {
     "name": "stdout",
     "output_type": "stream",
     "text": [
      "[  1.   7.   9.  20.  -5.  -4.  -3.  -3.  -3.  -9.   0. -10.]\n"
     ]
    },
    {
     "data": {
      "text/plain": [
       "0.0"
      ]
     },
     "execution_count": 8,
     "metadata": {},
     "output_type": "execute_result"
    }
   ],
   "source": [
    "# 6\n",
    "# A common statistical operation on a dataset is centering. This means to adjust the data such that \n",
    "# the mean of the data is 0. This is done by subtracting the mean from each data point. \n",
    "# Center the data set. See this link for more on centering.\n",
    "\n",
    "\n",
    "\n",
    "center_function = lambda x: x - x.mean()\n",
    "data_centered = center_function(a)\n",
    "print(data_centered)\n",
    "a.mean()\n",
    "\n",
    "data_centered.mean()"
   ]
  },
  {
   "cell_type": "code",
   "execution_count": 9,
   "id": "0bb0966d",
   "metadata": {},
   "outputs": [
    {
     "data": {
      "text/plain": [
       "array([ 0.12403473,  0.86824314,  1.11631261,  2.48069469, -0.62017367,\n",
       "       -0.49613894, -0.3721042 , -0.3721042 , -0.3721042 , -1.11631261,\n",
       "        0.        , -1.24034735])"
      ]
     },
     "execution_count": 9,
     "metadata": {},
     "output_type": "execute_result"
    }
   ],
   "source": [
    "# 7 \n",
    "# Calculate the z-score for each data point. \n",
    "\n",
    "ag = stats.zscore(a, axis=None)\n",
    "ag"
   ]
  },
  {
   "cell_type": "code",
   "execution_count": 10,
   "id": "b7b8d6a1",
   "metadata": {},
   "outputs": [],
   "source": [
    "# 8\n",
    "\n",
    "\n",
    "## Setup 1\n",
    "aq = [1, 2, 3, 4, 5, 6, 7, 8, 9, 10]\n",
    "\n",
    "# Use Python's built-in functionality/operators to determine the following\n"
   ]
  },
  {
   "cell_type": "code",
   "execution_count": 11,
   "id": "b453565f",
   "metadata": {},
   "outputs": [
    {
     "data": {
      "text/plain": [
       "55"
      ]
     },
     "execution_count": 11,
     "metadata": {},
     "output_type": "execute_result"
    }
   ],
   "source": [
    "## Setup 1\n",
    "# Exercise 1 - Make a variable called sum_of_a to hold the sum of all the numbers in above list\n",
    "sum_of_a = sum(aq)\n",
    "sum_of_a"
   ]
  },
  {
   "cell_type": "code",
   "execution_count": 12,
   "id": "b605f8fd",
   "metadata": {},
   "outputs": [
    {
     "data": {
      "text/plain": [
       "1"
      ]
     },
     "execution_count": 12,
     "metadata": {},
     "output_type": "execute_result"
    }
   ],
   "source": [
    "## Setup 1\n",
    "# Exercise 2 - Make a variable named min_of_a to hold the minimum of all the numbers in the above list\n",
    "\n",
    "min_of_a = min(aq)\n",
    "min_of_a"
   ]
  },
  {
   "cell_type": "code",
   "execution_count": 13,
   "id": "a03b9eca",
   "metadata": {},
   "outputs": [
    {
     "data": {
      "text/plain": [
       "10"
      ]
     },
     "execution_count": 13,
     "metadata": {},
     "output_type": "execute_result"
    }
   ],
   "source": [
    "## Setup 1\n",
    "# Exercise 3 - Make a variable named max_of_a to hold the max number of all the numbers in the above list\n",
    "\n",
    "max_of_a = max(aq)\n",
    "max_of_a"
   ]
  },
  {
   "cell_type": "code",
   "execution_count": 14,
   "id": "84e3baef",
   "metadata": {},
   "outputs": [
    {
     "data": {
      "text/plain": [
       "5.5"
      ]
     },
     "execution_count": 14,
     "metadata": {},
     "output_type": "execute_result"
    }
   ],
   "source": [
    "## Setup 1\n",
    "# Exercise 4 - Make a variable named mean_of_a to hold the average of all the numbers in the above list\n",
    "\n",
    "mean_of_a = mean(aq)\n",
    "mean_of_a"
   ]
  },
  {
   "cell_type": "code",
   "execution_count": null,
   "id": "b528ce71",
   "metadata": {},
   "outputs": [],
   "source": []
  },
  {
   "cell_type": "code",
   "execution_count": 15,
   "id": "ad83a664",
   "metadata": {},
   "outputs": [
    {
     "data": {
      "text/plain": [
       "3628800"
      ]
     },
     "execution_count": 15,
     "metadata": {},
     "output_type": "execute_result"
    }
   ],
   "source": [
    "## Setup 1\n",
    "# Exercise 5 - Make a variable named product_of_a to hold the product of multiplying all \n",
    "#  the numbers in the above list together\n",
    "\n",
    "product_of_a = np.prod(aq)\n",
    "product_of_a\n",
    "   "
   ]
  },
  {
   "cell_type": "code",
   "execution_count": 16,
   "id": "fff8b61f",
   "metadata": {},
   "outputs": [
    {
     "data": {
      "text/plain": [
       "array([ 16, 100, 144, 529,   4,   1,   0,   0,   0,  36,   9,  49])"
      ]
     },
     "execution_count": 16,
     "metadata": {},
     "output_type": "execute_result"
    }
   ],
   "source": [
    "## Setup 1\n",
    "# Exercise 6 - Make a variable named squares_of_a. It should hold each number in a squared \n",
    "# like [1, 4, 9, 16, 25...]\n",
    "squares_of_a = a ** 2\n",
    "squares_of_a"
   ]
  },
  {
   "cell_type": "code",
   "execution_count": 17,
   "id": "e30e82f0",
   "metadata": {},
   "outputs": [
    {
     "data": {
      "text/plain": [
       "array([1, 3, 5, 7, 9])"
      ]
     },
     "execution_count": 17,
     "metadata": {},
     "output_type": "execute_result"
    }
   ],
   "source": [
    "## Setup 1\n",
    "# Exercise 7 - Make a variable named odds_in_a. It should hold only the odd numbers\n",
    "\n",
    "def odds_in_a(aq):\n",
    "    aq = np.array(aq)\n",
    "    return aq[aq % 2 == 1]\n",
    "\n",
    "odd = odds_in_a(aq)\n",
    "odd\n",
    "\n"
   ]
  },
  {
   "cell_type": "code",
   "execution_count": 18,
   "id": "07d977b1",
   "metadata": {},
   "outputs": [
    {
     "data": {
      "text/plain": [
       "array([ 2,  4,  6,  8, 10])"
      ]
     },
     "execution_count": 18,
     "metadata": {},
     "output_type": "execute_result"
    }
   ],
   "source": [
    "## Setup 1\n",
    "# Exercise 8 - Make a variable named evens_in_a. It should hold only the evens.\n",
    "\n",
    "## evens_in_a = (a % 2 == 0)\n",
    "## evens_in_a\n",
    "\n",
    "## this above is a boolean T / F list\n",
    "\n",
    "\n",
    "# this returns the evens :\n",
    "\n",
    "def evens_in_a(aq):\n",
    "    aq = np.array(aq)\n",
    "    return aq[aq % 2 == 0]\n",
    "\n",
    "even = evens_in_a(aq)\n",
    "even"
   ]
  },
  {
   "cell_type": "code",
   "execution_count": 19,
   "id": "d0fd5a6b",
   "metadata": {},
   "outputs": [],
   "source": [
    "## What about life in two dimensions? A list of lists is matrix, a table, a spreadsheet, a chessboard...\n"
   ]
  },
  {
   "cell_type": "code",
   "execution_count": 32,
   "id": "4a46718b",
   "metadata": {},
   "outputs": [
    {
     "data": {
      "text/plain": [
       "array([[3, 4, 5],\n",
       "       [6, 7, 8]])"
      ]
     },
     "execution_count": 32,
     "metadata": {},
     "output_type": "execute_result"
    }
   ],
   "source": [
    "## Setup 2\n",
    "\n",
    "## Consider what it would take to find the sum, min, max, average, sum, product, and list \n",
    "## of squares for this list of two lists.\n",
    "\n",
    "b = [\n",
    "    [3, 4, 5],\n",
    "    [6, 7, 8]\n",
    "    ]\n",
    "\n",
    "## turning b into an array : \n",
    "bb = np.array(b)\n",
    "bb"
   ]
  },
  {
   "cell_type": "code",
   "execution_count": 33,
   "id": "ec0c5fc6",
   "metadata": {},
   "outputs": [
    {
     "data": {
      "text/plain": [
       "33"
      ]
     },
     "execution_count": 33,
     "metadata": {},
     "output_type": "execute_result"
    }
   ],
   "source": [
    "## Setup 2\n",
    "# Exercise 1 - refactor the following to use numpy. Use sum_of_b as the variable. \n",
    "    ## **Hint, you'll first need to make sure that the \"b\" variable is a numpy array**\n",
    "\n",
    "sum_of_b = 0\n",
    "for row in b:\n",
    "    sum_of_b += sum(row)\n",
    "sum_of_b"
   ]
  },
  {
   "cell_type": "code",
   "execution_count": 31,
   "id": "9ac8c650",
   "metadata": {},
   "outputs": [
    {
     "ename": "NameError",
     "evalue": "name 'bb' is not defined",
     "output_type": "error",
     "traceback": [
      "\u001b[0;31m---------------------------------------------------------------------------\u001b[0m",
      "\u001b[0;31mNameError\u001b[0m                                 Traceback (most recent call last)",
      "Input \u001b[0;32mIn [31]\u001b[0m, in \u001b[0;36m<cell line: 1>\u001b[0;34m()\u001b[0m\n\u001b[0;32m----> 1\u001b[0m sum_of_b2 \u001b[38;5;241m=\u001b[39m \u001b[43mbb\u001b[49m\u001b[38;5;241m.\u001b[39msum()\n\u001b[1;32m      2\u001b[0m sum_of_b2\n",
      "\u001b[0;31mNameError\u001b[0m: name 'bb' is not defined"
     ]
    }
   ],
   "source": [
    "sum_of_b2 = bb.sum()\n",
    "sum_of_b2"
   ]
  },
  {
   "cell_type": "code",
   "execution_count": 23,
   "id": "99b69e42",
   "metadata": {},
   "outputs": [
    {
     "data": {
      "text/plain": [
       "3"
      ]
     },
     "execution_count": 23,
     "metadata": {},
     "output_type": "execute_result"
    }
   ],
   "source": [
    "## Setup 2\n",
    "# Exercise 2 - refactor the following to use numpy. \n",
    "min_of_b = min(b[0]) if min(b[0]) <= min(b[1]) else min(b[1])  \n",
    "min_of_b"
   ]
  },
  {
   "cell_type": "code",
   "execution_count": 24,
   "id": "2739f006",
   "metadata": {},
   "outputs": [
    {
     "data": {
      "text/plain": [
       "3"
      ]
     },
     "execution_count": 24,
     "metadata": {},
     "output_type": "execute_result"
    }
   ],
   "source": [
    "min_of_b2 = bb.min()\n",
    "min_of_b2"
   ]
  },
  {
   "cell_type": "code",
   "execution_count": 25,
   "id": "4be652e6",
   "metadata": {},
   "outputs": [
    {
     "data": {
      "text/plain": [
       "8"
      ]
     },
     "execution_count": 25,
     "metadata": {},
     "output_type": "execute_result"
    }
   ],
   "source": [
    "## Setup 2\n",
    "# Exercise 3 - refactor the following maximum calculation to find the answer with numpy.\n",
    "max_of_b = max(b[0]) if max(b[0]) >= max(b[1]) else max(b[1])\n",
    "max_of_b"
   ]
  },
  {
   "cell_type": "code",
   "execution_count": 26,
   "id": "000fba33",
   "metadata": {},
   "outputs": [
    {
     "data": {
      "text/plain": [
       "8"
      ]
     },
     "execution_count": 26,
     "metadata": {},
     "output_type": "execute_result"
    }
   ],
   "source": [
    "max_of_b2 = bb.max()\n",
    "max_of_b2"
   ]
  },
  {
   "cell_type": "code",
   "execution_count": 27,
   "id": "68736751",
   "metadata": {},
   "outputs": [
    {
     "data": {
      "text/plain": [
       "5.5"
      ]
     },
     "execution_count": 27,
     "metadata": {},
     "output_type": "execute_result"
    }
   ],
   "source": [
    "## Setup 2\n",
    "# Exercise 4 - refactor the following using numpy to find the mean of b\n",
    "mean_of_b = (sum(b[0]) + sum(b[1])) / (len(b[0]) + len(b[1]))\n",
    "mean_of_b \n"
   ]
  },
  {
   "cell_type": "code",
   "execution_count": 28,
   "id": "8d805769",
   "metadata": {},
   "outputs": [
    {
     "data": {
      "text/plain": [
       "5.5"
      ]
     },
     "execution_count": 28,
     "metadata": {},
     "output_type": "execute_result"
    }
   ],
   "source": [
    "mean_of_b2 = bb.mean()\n",
    "mean_of_b2"
   ]
  },
  {
   "cell_type": "code",
   "execution_count": 29,
   "id": "7ff5a1a2",
   "metadata": {},
   "outputs": [
    {
     "data": {
      "text/plain": [
       "20160"
      ]
     },
     "execution_count": 29,
     "metadata": {},
     "output_type": "execute_result"
    }
   ],
   "source": [
    "## Setup 2\n",
    "# Exercise 5 - refactor the following to use numpy for calculating the product of all numbers multiplied together.\n",
    "product_of_b = 1\n",
    "for row in b:\n",
    "    for number in row:\n",
    "        product_of_b *= number\n",
    "\n",
    "product_of_b"
   ]
  },
  {
   "cell_type": "code",
   "execution_count": 30,
   "id": "84920208",
   "metadata": {},
   "outputs": [
    {
     "data": {
      "text/plain": [
       "20160"
      ]
     },
     "execution_count": 30,
     "metadata": {},
     "output_type": "execute_result"
    }
   ],
   "source": [
    "product_of_b2 = np.prod(bb)\n",
    "product_of_b2"
   ]
  },
  {
   "cell_type": "code",
   "execution_count": 31,
   "id": "221fcd71",
   "metadata": {},
   "outputs": [
    {
     "data": {
      "text/plain": [
       "[9, 16, 25, 36, 49, 64]"
      ]
     },
     "execution_count": 31,
     "metadata": {},
     "output_type": "execute_result"
    }
   ],
   "source": [
    "## Setup 2\n",
    "# Exercise 6 - refactor the following to use numpy to find the list of squares \n",
    "squares_of_b = []\n",
    "for row in b:\n",
    "    for number in row:\n",
    "        squares_of_b.append(number**2)\n",
    "squares_of_b"
   ]
  },
  {
   "cell_type": "code",
   "execution_count": 32,
   "id": "532d1e16",
   "metadata": {},
   "outputs": [
    {
     "data": {
      "text/plain": [
       "array([[ 9, 16, 25],\n",
       "       [36, 49, 64]])"
      ]
     },
     "execution_count": 32,
     "metadata": {},
     "output_type": "execute_result"
    }
   ],
   "source": [
    "squares_of_b2 = bb ** 2\n",
    "squares_of_b2"
   ]
  },
  {
   "cell_type": "code",
   "execution_count": 33,
   "id": "ca06658f",
   "metadata": {},
   "outputs": [
    {
     "data": {
      "text/plain": [
       "[3, 5, 7]"
      ]
     },
     "execution_count": 33,
     "metadata": {},
     "output_type": "execute_result"
    }
   ],
   "source": [
    "## Setup 2\n",
    "# Exercise 7 - refactor using numpy to determine the odds_in_b\n",
    "odds_in_b = []\n",
    "for row in b:\n",
    "    for number in row:\n",
    "        if(number % 2 != 0):\n",
    "            odds_in_b.append(number)\n",
    "\n",
    "odds_in_b"
   ]
  },
  {
   "cell_type": "code",
   "execution_count": 34,
   "id": "0a97b390",
   "metadata": {},
   "outputs": [
    {
     "data": {
      "text/plain": [
       "array([3, 5, 7])"
      ]
     },
     "execution_count": 34,
     "metadata": {},
     "output_type": "execute_result"
    }
   ],
   "source": [
    "odds_in_b2 = np.array([bb])\n",
    "bb[bb % 2 == 1]"
   ]
  },
  {
   "cell_type": "code",
   "execution_count": 35,
   "id": "a54ebf56",
   "metadata": {},
   "outputs": [
    {
     "data": {
      "text/plain": [
       "[4, 6, 8]"
      ]
     },
     "execution_count": 35,
     "metadata": {},
     "output_type": "execute_result"
    }
   ],
   "source": [
    "## Setup 2\n",
    "# Exercise 8 - refactor the following to use numpy to filter only the even numbers\n",
    "evens_in_b = []\n",
    "for row in b:\n",
    "    for number in row:\n",
    "        if(number % 2 == 0):\n",
    "            evens_in_b.append(number)\n",
    "evens_in_b"
   ]
  },
  {
   "cell_type": "code",
   "execution_count": 36,
   "id": "555e5965",
   "metadata": {},
   "outputs": [
    {
     "data": {
      "text/plain": [
       "array([4, 6, 8])"
      ]
     },
     "execution_count": 36,
     "metadata": {},
     "output_type": "execute_result"
    }
   ],
   "source": [
    "evens_in_b2 = np.array([bb])\n",
    "bb[bb % 2 == 0]"
   ]
  },
  {
   "cell_type": "code",
   "execution_count": 42,
   "id": "bb07fb4e",
   "metadata": {},
   "outputs": [
    {
     "data": {
      "text/plain": [
       "(2, 3)"
      ]
     },
     "execution_count": 42,
     "metadata": {},
     "output_type": "execute_result"
    }
   ],
   "source": [
    "## Setup 2\n",
    "# Exercise 9 - print out the shape of the array b.\n",
    "\n",
    "np.array(bb).shape"
   ]
  },
  {
   "cell_type": "code",
   "execution_count": 43,
   "id": "9220bd36",
   "metadata": {},
   "outputs": [
    {
     "name": "stdout",
     "output_type": "stream",
     "text": [
      "[[3 6]\n",
      " [4 7]\n",
      " [5 8]]\n"
     ]
    }
   ],
   "source": [
    "## Setup 2\n",
    "# Exercise 10 - transpose the array b.\n",
    "transposition = np.array(bb)\n",
    "print(transposition.T)"
   ]
  },
  {
   "cell_type": "code",
   "execution_count": 47,
   "id": "1309b2ca",
   "metadata": {},
   "outputs": [
    {
     "data": {
      "text/plain": [
       "array([[3, 4, 5, 6, 7, 8]])"
      ]
     },
     "execution_count": 47,
     "metadata": {},
     "output_type": "execute_result"
    }
   ],
   "source": [
    "## Setup 2\n",
    "# Exercise 11 - reshape the array b to be a single list of 6 numbers. (1 x 6)\n",
    "newbb = bb.reshape(1,6)\n",
    "newbb"
   ]
  },
  {
   "cell_type": "code",
   "execution_count": 49,
   "id": "ef941296",
   "metadata": {},
   "outputs": [
    {
     "data": {
      "text/plain": [
       "array([[3],\n",
       "       [4],\n",
       "       [5],\n",
       "       [6],\n",
       "       [7],\n",
       "       [8]])"
      ]
     },
     "execution_count": 49,
     "metadata": {},
     "output_type": "execute_result"
    }
   ],
   "source": [
    "## Setup 2\n",
    "# Exercise 12 - reshape the array b to be a list of 6 lists, each containing only 1 number (6 x 1)\n",
    "\n",
    "newestbb = bb.reshape(6,1)\n",
    "newestbb"
   ]
  },
  {
   "cell_type": "code",
   "execution_count": null,
   "id": "34c3972d",
   "metadata": {},
   "outputs": [],
   "source": []
  },
  {
   "cell_type": "code",
   "execution_count": 3,
   "id": "8bc205f6",
   "metadata": {},
   "outputs": [
    {
     "data": {
      "text/plain": [
       "array([[1, 2, 3],\n",
       "       [4, 5, 6],\n",
       "       [7, 8, 9]])"
      ]
     },
     "execution_count": 3,
     "metadata": {},
     "output_type": "execute_result"
    }
   ],
   "source": [
    "## Setup 3\n",
    "c = [\n",
    "    [1, 2, 3],\n",
    "    [4, 5, 6],\n",
    "    [7, 8, 9]\n",
    "]\n",
    "\n",
    "# HINT, you'll first need to make sure that the \"c\" variable is a numpy array before using numpy array methods.\n",
    "\n",
    "cc = np.array(c)\n",
    "cc"
   ]
  },
  {
   "cell_type": "code",
   "execution_count": 9,
   "id": "b679865b",
   "metadata": {},
   "outputs": [
    {
     "data": {
      "text/plain": [
       "(1, 9, 45, 362880)"
      ]
     },
     "execution_count": 9,
     "metadata": {},
     "output_type": "execute_result"
    }
   ],
   "source": [
    "## Setup 3\n",
    "# Exercise 1 - Find the min, max, sum, and product of c.\n",
    "cd = cc.min(), cc.max(), cc.sum(), cc.prod()\n",
    "cd\n"
   ]
  },
  {
   "cell_type": "code",
   "execution_count": 10,
   "id": "4e7f2df0",
   "metadata": {},
   "outputs": [
    {
     "data": {
      "text/plain": [
       "2.58199"
      ]
     },
     "execution_count": 10,
     "metadata": {},
     "output_type": "execute_result"
    }
   ],
   "source": [
    "## Setup 3\n",
    "# Exercise 2 - Determine the standard deviation of c.\n",
    "\n",
    "ce = round(cc.std(), 5)\n",
    "ce"
   ]
  },
  {
   "cell_type": "code",
   "execution_count": 11,
   "id": "39bffcef",
   "metadata": {},
   "outputs": [
    {
     "data": {
      "text/plain": [
       "6.666666666666667"
      ]
     },
     "execution_count": 11,
     "metadata": {},
     "output_type": "execute_result"
    }
   ],
   "source": [
    "## Setup 3\n",
    "# Exercise 3 - Determine the variance of c.\n",
    "\n",
    "cf = np.var(cc)\n",
    "cf"
   ]
  },
  {
   "cell_type": "code",
   "execution_count": 12,
   "id": "e5c90a83",
   "metadata": {},
   "outputs": [
    {
     "data": {
      "text/plain": [
       "(3, 3)"
      ]
     },
     "execution_count": 12,
     "metadata": {},
     "output_type": "execute_result"
    }
   ],
   "source": [
    "## Setup 3\n",
    "# Exercise 4 - Print out the shape of the array c\n",
    "\n",
    "np.shape(cc)"
   ]
  },
  {
   "cell_type": "code",
   "execution_count": 22,
   "id": "7e9faf15",
   "metadata": {},
   "outputs": [
    {
     "data": {
      "text/plain": [
       "array([[1, 4, 7],\n",
       "       [2, 5, 8],\n",
       "       [3, 6, 9]])"
      ]
     },
     "execution_count": 22,
     "metadata": {},
     "output_type": "execute_result"
    }
   ],
   "source": [
    "## Setup 3\n",
    "# Exercise 5 - Transpose c and print out transposed result.\n",
    "\n",
    "#transposition = np.array(bb)\n",
    "#print(transposition.T)\n",
    "\n",
    "#transposition = np.array(cc)\n",
    "#transposition.T\n",
    "\n",
    "cg = cc.T\n",
    "cg"
   ]
  },
  {
   "cell_type": "code",
   "execution_count": 35,
   "id": "0d1b6b88",
   "metadata": {},
   "outputs": [
    {
     "data": {
      "text/plain": [
       "array([[ 30,  36,  42],\n",
       "       [ 66,  81,  96],\n",
       "       [102, 126, 150]])"
      ]
     },
     "execution_count": 35,
     "metadata": {},
     "output_type": "execute_result"
    }
   ],
   "source": [
    "## Setup 3\n",
    "# Exercise 6 - Get the dot product of the array c with c. \n",
    "\n",
    "ch = np.dot(cc,cc)\n",
    "ch\n"
   ]
  },
  {
   "cell_type": "code",
   "execution_count": 45,
   "id": "f008524e",
   "metadata": {},
   "outputs": [
    {
     "data": {
      "text/plain": [
       "261"
      ]
     },
     "execution_count": 45,
     "metadata": {},
     "output_type": "execute_result"
    }
   ],
   "source": [
    "## Setup 3\n",
    "# Exercise 7 - Write the code necessary to sum up the result of c times c transposed. Answer should be 261\n",
    "\n",
    "ci = np.sum(cc * cg)\n",
    "ci"
   ]
  },
  {
   "cell_type": "code",
   "execution_count": 46,
   "id": "216e6980",
   "metadata": {},
   "outputs": [
    {
     "data": {
      "text/plain": [
       "131681894400"
      ]
     },
     "execution_count": 46,
     "metadata": {},
     "output_type": "execute_result"
    }
   ],
   "source": [
    "## Setup 3\n",
    "# Exercise 8 - Write the code necessary to determine the product of c times c transposed. \n",
    "# Answer should be 131681894400.\n",
    "\n",
    "cj = np.prod(cc * cg)\n",
    "cj\n"
   ]
  },
  {
   "cell_type": "code",
   "execution_count": null,
   "id": "a636b089",
   "metadata": {},
   "outputs": [],
   "source": []
  },
  {
   "cell_type": "code",
   "execution_count": 48,
   "id": "87379b5d",
   "metadata": {},
   "outputs": [
    {
     "data": {
      "text/plain": [
       "array([[ 90,  30,  45,   0, 120, 180],\n",
       "       [ 45, -90, -30, 270,  90,   0],\n",
       "       [ 60,  45, -45,  90, -45, 180]])"
      ]
     },
     "execution_count": 48,
     "metadata": {},
     "output_type": "execute_result"
    }
   ],
   "source": [
    "## Setup 4\n",
    "d = [\n",
    "    [90, 30, 45, 0, 120, 180],\n",
    "    [45, -90, -30, 270, 90, 0],\n",
    "    [60, 45, -45, 90, -45, 180]\n",
    "]\n",
    "\n",
    "dd = np.array(d)\n",
    "dd"
   ]
  },
  {
   "cell_type": "code",
   "execution_count": 52,
   "id": "a860f52e",
   "metadata": {},
   "outputs": [
    {
     "data": {
      "text/plain": [
       "array([[ 0.89399666, -0.98803162,  0.85090352,  0.        ,  0.58061118,\n",
       "        -0.80115264],\n",
       "       [ 0.85090352, -0.89399666,  0.98803162, -0.17604595,  0.89399666,\n",
       "         0.        ],\n",
       "       [-0.30481062,  0.85090352, -0.85090352,  0.89399666, -0.85090352,\n",
       "        -0.80115264]])"
      ]
     },
     "execution_count": 52,
     "metadata": {},
     "output_type": "execute_result"
    }
   ],
   "source": [
    "## Setup 4\n",
    "# Exercise 1 - Find the sine of all the numbers in d\n",
    "\n",
    "de = np.sin(dd)\n",
    "de"
   ]
  },
  {
   "cell_type": "code",
   "execution_count": 53,
   "id": "d33be89c",
   "metadata": {},
   "outputs": [
    {
     "data": {
      "text/plain": [
       "array([[-0.44807362,  0.15425145,  0.52532199,  1.        ,  0.81418097,\n",
       "        -0.59846007],\n",
       "       [ 0.52532199, -0.44807362,  0.15425145,  0.98438195, -0.44807362,\n",
       "         1.        ],\n",
       "       [-0.95241298,  0.52532199,  0.52532199, -0.44807362,  0.52532199,\n",
       "        -0.59846007]])"
      ]
     },
     "execution_count": 53,
     "metadata": {},
     "output_type": "execute_result"
    }
   ],
   "source": [
    "## Setup 4\n",
    "# Exercise 2 - Find the cosine of all the numbers in d\n",
    "\n",
    "df = np.cos(dd)\n",
    "df\n"
   ]
  },
  {
   "cell_type": "code",
   "execution_count": 54,
   "id": "4f79545f",
   "metadata": {},
   "outputs": [
    {
     "data": {
      "text/plain": [
       "array([[-1.99520041, -6.4053312 ,  1.61977519,  0.        ,  0.71312301,\n",
       "         1.33869021],\n",
       "       [ 1.61977519,  1.99520041,  6.4053312 , -0.17883906, -1.99520041,\n",
       "         0.        ],\n",
       "       [ 0.32004039,  1.61977519, -1.61977519, -1.99520041, -1.61977519,\n",
       "         1.33869021]])"
      ]
     },
     "execution_count": 54,
     "metadata": {},
     "output_type": "execute_result"
    }
   ],
   "source": [
    "## Setup 4\n",
    "# Exercise 3 - Find the tangent of all the numbers in d\n",
    "\n",
    "dg = np.tan(dd)\n",
    "dg"
   ]
  },
  {
   "cell_type": "code",
   "execution_count": 56,
   "id": "c8714d97",
   "metadata": {},
   "outputs": [
    {
     "data": {
      "text/plain": [
       "array([[False, False, False, False, False, False],\n",
       "       [False,  True,  True, False, False, False],\n",
       "       [False, False,  True, False,  True, False]])"
      ]
     },
     "execution_count": 56,
     "metadata": {},
     "output_type": "execute_result"
    }
   ],
   "source": [
    "## Setup 4\n",
    "# Exercise 4 - Find all the negative numbers in d\n",
    "\n",
    "dh = (dd < 0)\n",
    "dh\n"
   ]
  },
  {
   "cell_type": "code",
   "execution_count": 60,
   "id": "af3788f2",
   "metadata": {},
   "outputs": [
    {
     "data": {
      "text/plain": [
       "array([[ True,  True,  True,  True,  True,  True],\n",
       "       [ True, False, False,  True,  True,  True],\n",
       "       [ True,  True, False,  True, False,  True]])"
      ]
     },
     "execution_count": 60,
     "metadata": {},
     "output_type": "execute_result"
    }
   ],
   "source": [
    "## Setup 4\n",
    "# Exercise 5 - Find all the positive numbers in d\n",
    "\n",
    "\n",
    "di = (dd >= 0)\n",
    "di"
   ]
  },
  {
   "cell_type": "code",
   "execution_count": 62,
   "id": "6ae630c9",
   "metadata": {},
   "outputs": [
    {
     "data": {
      "text/plain": [
       "array([-90, -45, -30,   0,  30,  45,  60,  90, 120, 180, 270])"
      ]
     },
     "execution_count": 62,
     "metadata": {},
     "output_type": "execute_result"
    }
   ],
   "source": [
    "## Setup 4\n",
    "# Exercise 6 - Return an array of only the unique numbers in d.\n",
    "\n",
    "dj = np.unique(dd)\n",
    "dj"
   ]
  },
  {
   "cell_type": "code",
   "execution_count": 70,
   "id": "804d4d8b",
   "metadata": {},
   "outputs": [
    {
     "data": {
      "text/plain": [
       "11"
      ]
     },
     "execution_count": 70,
     "metadata": {},
     "output_type": "execute_result"
    }
   ],
   "source": [
    "## Setup 4\n",
    "# Exercise 7 - Determine how many unique numbers there are in d.\n",
    "\n",
    "dk = len(np.unique(dd))\n",
    "dk"
   ]
  },
  {
   "cell_type": "code",
   "execution_count": 73,
   "id": "a5d5cee8",
   "metadata": {},
   "outputs": [
    {
     "data": {
      "text/plain": [
       "(3, 6)"
      ]
     },
     "execution_count": 73,
     "metadata": {},
     "output_type": "execute_result"
    }
   ],
   "source": [
    "## Setup 4\n",
    "# Exercise 8 - Print out the shape of d.\n",
    "\n",
    "dl = np.shape(dd)\n",
    "dl"
   ]
  },
  {
   "cell_type": "code",
   "execution_count": 75,
   "id": "7292c046",
   "metadata": {},
   "outputs": [
    {
     "data": {
      "text/plain": [
       "(6, 3)"
      ]
     },
     "execution_count": 75,
     "metadata": {},
     "output_type": "execute_result"
    }
   ],
   "source": [
    "## Setup 4\n",
    "# Exercise 9 - Transpose and then print out the shape of d.\n",
    "\n",
    "dm1 = dd.T\n",
    "dm1\n",
    "\n",
    "dm2 = np.shape(dm1)\n",
    "dm2"
   ]
  },
  {
   "cell_type": "code",
   "execution_count": 76,
   "id": "cc205522",
   "metadata": {},
   "outputs": [
    {
     "data": {
      "text/plain": [
       "array([[ 90,  30],\n",
       "       [ 45,   0],\n",
       "       [120, 180],\n",
       "       [ 45, -90],\n",
       "       [-30, 270],\n",
       "       [ 90,   0],\n",
       "       [ 60,  45],\n",
       "       [-45,  90],\n",
       "       [-45, 180]])"
      ]
     },
     "execution_count": 76,
     "metadata": {},
     "output_type": "execute_result"
    }
   ],
   "source": [
    "## Setup 4\n",
    "# Exercise 10 - Reshape d into an array of 9 x 2\n",
    "\n",
    "newdd = dd.reshape(9,2)\n",
    "newdd"
   ]
  }
 ],
 "metadata": {
  "kernelspec": {
   "display_name": "Python 3 (ipykernel)",
   "language": "python",
   "name": "python3"
  },
  "language_info": {
   "codemirror_mode": {
    "name": "ipython",
    "version": 3
   },
   "file_extension": ".py",
   "mimetype": "text/x-python",
   "name": "python",
   "nbconvert_exporter": "python",
   "pygments_lexer": "ipython3",
   "version": "3.9.13"
  }
 },
 "nbformat": 4,
 "nbformat_minor": 5
}
