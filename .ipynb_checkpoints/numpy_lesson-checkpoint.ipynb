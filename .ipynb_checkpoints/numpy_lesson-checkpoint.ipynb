{
 "cells": [
  {
   "cell_type": "markdown",
   "metadata": {},
   "source": [
    "# Numpy\n",
    "\n",
    "- https://numpy.org/\n",
    "- https://numpy.org/devdocs/user/quickstart.html\n",
    "\n",
    "## Intro\n",
    "\n",
    "### Overview of Data Science Libraries\n",
    "\n",
    "Read: https://ds.codeup.com/python/ds-libraries-overview/\n",
    "\n",
    "A couple of libraries we will not include here, but you will use throughout the rest of the course are Scikit-Learn for machine learning and scipy.stats for statistical testing. \n",
    "\n",
    "### About Numpy\n",
    "\n",
    "- Numpy is one of the main reasons why Python is so powerful and popular for scientific computing\n",
    "\n",
    "- It is super fast. Numpy arrays are implemented in C, which makes numpy very fast.\n",
    "\n",
    "- It is the most popular linear algebra library for Python. \n",
    "\n",
    "- It provides loop-like behavior w/o the overhead of loops or list comprehensions (vectorized operations)\n",
    "\n",
    "- It provides list + loop + conditional behavior for filtering arrays. \n",
    "\n",
    "### In this Lesson you will learn about...\n",
    "\n",
    "- Numpy Arrays\n",
    "- Vectorization and Vectorized Operations\n",
    "- Array Indexing or Slicing\n",
    "- Boolean Masking\n",
    "- Data types of array values\n",
    "\n",
    "### By the end of this lesson, you should be able to...\n",
    "\n",
    "- Create an n-dimensional array\n",
    "- Access elements of an array using slicing notation\n",
    "- Use built-in functions for common statistical and mathematical operations\n",
    "- Perform vectorized arithmetic operations on arrays\n",
    "- Filter Arrays using boolean masks\n",
    "\n",
    "\n",
    "### Vocabulary\n",
    "\n",
    "- Vectorized Operations: The concept of relational or arithmetic operators extended to vectors of any arbitrary length, where the comparison or calculation is performed on each item in the array. \n",
    "\n",
    "- Boolean Masking: Filtering of values in a numpy array by passing a condition in the indexing brackets, [], or by using a boolean array that only contains the boolean values of either True or False, and then passing that into the indexing brackets, [].\n",
    "\n",
    "- Array: An array is a collection of items of same data type stored at contiguous memory locations, starting at index 0. The array object in NumPy is called ndarray, for n-dimensional array.\n",
    "\n",
    "- Scalar: aka 0-D arrays, the elements in an array. Each value in an array is a scalar. \n",
    "\n",
    "- 1-Dimensional Array: An array that has 0-D arrays/scalars as its elements. \n",
    "\n",
    "- 2-D Array: An array that has 1-D arrays as its elements. A matrix.\n",
    "\n",
    "- 3-D Array: An array that has 2-D arrays (matrices) as its elements. \n",
    "\n",
    "- Slicing: An operation that extracts a subset of elements from an array and packages them as another array. \n",
    "\n",
    "\n",
    "### Agenda\n",
    "\n",
    "1. Import Numpy\n",
    "2. Numpy Speed\n",
    "3. Create arrays\n",
    "4. Access items in arrays using indexing, slicing\n",
    "5. Built-in functions: a.sum(), a.mean(), a.min(), a.max(), a.std(), np.sqrt(a)\n",
    "6. Vectorized Operations\n",
    "7. Filtering Arrays using boolean masks\n",
    "8. Array data types "
   ]
  },
  {
   "cell_type": "markdown",
   "metadata": {},
   "source": [
    "## Lesson\n",
    "\n",
    "### Import Numpy\n",
    "\n",
    "It is a common practice to import numpy with the alias `np`"
   ]
  },
  {
   "cell_type": "code",
   "execution_count": 54,
   "metadata": {},
   "outputs": [],
   "source": [
    "import numpy as np"
   ]
  },
  {
   "cell_type": "markdown",
   "metadata": {},
   "source": [
    "### Numpy Speed \n",
    "\n",
    "As we said, numpy is super fast. This is because Numpy arrays are implemented in C, and C is \"closer to the metal\" than Python. Assembly is closer to the metal than C, and Processor instruction sets == are the metal!"
   ]
  },
  {
   "cell_type": "code",
   "execution_count": 57,
   "metadata": {},
   "outputs": [
    {
     "name": "stdout",
     "output_type": "stream",
     "text": [
      "216 ms ± 532 µs per loop (mean ± std. dev. of 7 runs, 1 loop each)\n"
     ]
    }
   ],
   "source": [
    "%%timeit\n",
    "# using base python\n",
    "[x ** 2 for x in range(1, 1_000_000)]"
   ]
  },
  {
   "cell_type": "code",
   "execution_count": 58,
   "metadata": {},
   "outputs": [
    {
     "name": "stdout",
     "output_type": "stream",
     "text": [
      "1.16 ms ± 9.95 µs per loop (mean ± std. dev. of 7 runs, 1,000 loops each)\n"
     ]
    }
   ],
   "source": [
    "%%timeit \n",
    "## this times cells\n",
    "\n",
    "# using numpy\n",
    "np.arange(1, 1_000_000) ** 2"
   ]
  },
  {
   "cell_type": "markdown",
   "metadata": {},
   "source": [
    "### Create Arrays\n",
    "\n",
    "#### Create an array from a list\n",
    "\n",
    "Create a one-dimensional array from a single list. "
   ]
  },
  {
   "cell_type": "code",
   "execution_count": 4,
   "metadata": {},
   "outputs": [
    {
     "data": {
      "text/plain": [
       "array([1, 2, 3, 4])"
      ]
     },
     "execution_count": 4,
     "metadata": {},
     "output_type": "execute_result"
    }
   ],
   "source": [
    "my_list = [1, 2, 3, 4]\n",
    "a = np.array(my_list)\n",
    "a"
   ]
  },
  {
   "cell_type": "code",
   "execution_count": 62,
   "metadata": {},
   "outputs": [
    {
     "data": {
      "text/plain": [
       "array([1, 2, 3, 4])"
      ]
     },
     "execution_count": 62,
     "metadata": {},
     "output_type": "execute_result"
    }
   ],
   "source": [
    "# create a list\n",
    "\n",
    "my_list = [1,2,3,4]\n",
    "#convert to array using np.array\n",
    "\n",
    "a = np.array(my_list)  # assigning a variable to the np.array of my_list\n",
    "a"
   ]
  },
  {
   "cell_type": "code",
   "execution_count": 5,
   "metadata": {},
   "outputs": [
    {
     "data": {
      "text/plain": [
       "numpy.ndarray"
      ]
     },
     "execution_count": 5,
     "metadata": {},
     "output_type": "execute_result"
    }
   ],
   "source": [
    "type(a)"
   ]
  },
  {
   "cell_type": "markdown",
   "metadata": {},
   "source": [
    "We can create a 2-D array by passing a list of lists to the array function. "
   ]
  },
  {
   "cell_type": "code",
   "execution_count": 6,
   "metadata": {},
   "outputs": [
    {
     "data": {
      "text/plain": [
       "array([[1, 2, 3],\n",
       "       [4, 5, 6],\n",
       "       [7, 8, 9]])"
      ]
     },
     "execution_count": 6,
     "metadata": {},
     "output_type": "execute_result"
    }
   ],
   "source": [
    "matrix = np.array([[1, 2, 3],\n",
    "                   [4, 5, 6],\n",
    "                   [7, 8, 9]])\n",
    "matrix"
   ]
  },
  {
   "cell_type": "code",
   "execution_count": 66,
   "metadata": {},
   "outputs": [
    {
     "data": {
      "text/plain": [
       "array([[ 1,  0,  1],\n",
       "       [ 3,  6,  2],\n",
       "       [ 6, 19, 44]])"
      ]
     },
     "execution_count": 66,
     "metadata": {},
     "output_type": "execute_result"
    }
   ],
   "source": [
    "# create a list of list : 2D array\n",
    "\n",
    "list = [[1,0,1],\n",
    "        [3,6,2],\n",
    "        [6,19,44]]\n",
    "\n",
    "# convert to array\n",
    "my_matrix = np.array(list)\n",
    "my_matrix"
   ]
  },
  {
   "cell_type": "code",
   "execution_count": null,
   "metadata": {},
   "outputs": [],
   "source": []
  },
  {
   "cell_type": "markdown",
   "metadata": {},
   "source": [
    "#### Create an array of of random numbers drawn from the standard normal distribution. \n",
    "\n",
    "`np.random.randn(length_of_array)`"
   ]
  },
  {
   "cell_type": "code",
   "execution_count": 7,
   "metadata": {},
   "outputs": [
    {
     "data": {
      "text/plain": [
       "array([ 0.46927531, -0.96331603, -0.47724536, -0.94130309, -0.99824283,\n",
       "       -0.28762746,  0.30513432,  1.81567593,  0.75341926,  0.24763535])"
      ]
     },
     "execution_count": 7,
     "metadata": {},
     "output_type": "execute_result"
    }
   ],
   "source": [
    "np.random.randn(10)"
   ]
  },
  {
   "cell_type": "code",
   "execution_count": 68,
   "metadata": {},
   "outputs": [
    {
     "data": {
      "text/plain": [
       "array([-1.43417367, -1.23761524, -0.3412221 , -1.02215636,  0.55864172,\n",
       "        1.3634234 ,  0.62091367, -0.13730021,  1.6052836 ,  0.21539666,\n",
       "        0.99154151,  0.02243931,  0.86461276])"
      ]
     },
     "execution_count": 68,
     "metadata": {},
     "output_type": "execute_result"
    }
   ],
   "source": [
    "# create array from random numbers instead of from a list :\n",
    "\n",
    "np.random.randn(13) # 13 values in a standard normal distribution : mean 0, std dev 0f 1. 1D array bc only 1 no"
   ]
  },
  {
   "cell_type": "code",
   "execution_count": 69,
   "metadata": {},
   "outputs": [
    {
     "data": {
      "text/plain": [
       "array([[ 0.01161059, -2.43770031,  2.52167423,  0.40068233],\n",
       "       [ 0.10315252,  1.21507445, -0.27121223,  0.73603603],\n",
       "       [ 0.703108  ,  0.35721749, -0.58301587,  1.08917784],\n",
       "       [-1.70412012,  0.39296725,  2.42652762, -1.37412376],\n",
       "       [ 0.28472297,  0.24565699,  0.29560816, -0.50492594],\n",
       "       [ 0.86561439,  0.19747631, -0.93434353,  0.98005373],\n",
       "       [-0.74266578,  1.09284957, -0.4938523 ,  0.41475973],\n",
       "       [ 1.19325248,  0.5169049 , -0.37128241,  0.24991132],\n",
       "       [ 0.49664015,  0.1048089 , -0.09750643, -0.50528278],\n",
       "       [ 0.04328388,  1.73745761, -0.46528303,  1.87051737],\n",
       "       [ 1.04690267, -0.30184377,  0.41939984, -2.26116677],\n",
       "       [ 0.86248582, -1.11445617,  1.6271588 , -0.42696506],\n",
       "       [-0.62648859,  1.28702551, -1.38034096,  0.76680797]])"
      ]
     },
     "execution_count": 69,
     "metadata": {},
     "output_type": "execute_result"
    }
   ],
   "source": [
    "# pass a second argument to define the shape of the array :\n",
    "# 13 == rows, 4 == columns\n",
    "\n",
    "np.random.randn(13, 4)"
   ]
  },
  {
   "cell_type": "markdown",
   "metadata": {},
   "source": [
    "We can pass a second argument to this function to define the shape of a two dimensional array. The first number can be thought of as the number of rows in the matrix, while the second number are the number of columns."
   ]
  },
  {
   "cell_type": "code",
   "execution_count": 8,
   "metadata": {},
   "outputs": [
    {
     "data": {
      "text/plain": [
       "array([[-0.58435402, -0.13131378],\n",
       "       [ 0.03611437,  1.23933298],\n",
       "       [-0.95121296,  1.19280027],\n",
       "       [ 0.13546603,  0.24763969],\n",
       "       [-0.06735086, -1.16384514],\n",
       "       [-0.11874943,  1.26464739],\n",
       "       [ 2.1941625 ,  0.45275272],\n",
       "       [ 0.40802577,  0.21221754],\n",
       "       [ 2.34817488,  1.79171257],\n",
       "       [ 0.1425013 ,  0.23294827]])"
      ]
     },
     "execution_count": 8,
     "metadata": {},
     "output_type": "execute_result"
    }
   ],
   "source": [
    "np.random.randn(10, 2)"
   ]
  },
  {
   "cell_type": "markdown",
   "metadata": {},
   "source": [
    "#### Create an array of a single value\n",
    "\n",
    "The `zeros` and `ones` functions provide the ability to create arrays of a specified size full or either 0s or 1s, and the `full` function allows us to create an array of the specified size with a default value."
   ]
  },
  {
   "cell_type": "code",
   "execution_count": 9,
   "metadata": {},
   "outputs": [
    {
     "data": {
      "text/plain": [
       "array([0., 0., 0.])"
      ]
     },
     "execution_count": 9,
     "metadata": {},
     "output_type": "execute_result"
    }
   ],
   "source": [
    "np.zeros(3)"
   ]
  },
  {
   "cell_type": "code",
   "execution_count": 71,
   "metadata": {},
   "outputs": [
    {
     "data": {
      "text/plain": [
       "array([0., 0., 0., 0., 0.])"
      ]
     },
     "execution_count": 71,
     "metadata": {},
     "output_type": "execute_result"
    }
   ],
   "source": [
    "# zeros in a list\n",
    "# for when wanting an empty array to which to add values. For doing calculations and having somewhere\n",
    "    # to put them.\n",
    "    \n",
    "np.zeros(5)"
   ]
  },
  {
   "cell_type": "markdown",
   "metadata": {},
   "source": [
    "We can also create multi-dimensional arrays by passing a tuple of the dimensions of the desired array, instead of a single integer value."
   ]
  },
  {
   "cell_type": "code",
   "execution_count": 10,
   "metadata": {},
   "outputs": [
    {
     "data": {
      "text/plain": [
       "array([[0., 0.],\n",
       "       [0., 0.],\n",
       "       [0., 0.]])"
      ]
     },
     "execution_count": 10,
     "metadata": {},
     "output_type": "execute_result"
    }
   ],
   "source": [
    "np.zeros((3, 2))"
   ]
  },
  {
   "cell_type": "code",
   "execution_count": null,
   "metadata": {},
   "outputs": [],
   "source": [
    "# tuple = an immutable ((10, 5)). Parentheses, doubled in an array of 1D or greater."
   ]
  },
  {
   "cell_type": "code",
   "execution_count": 72,
   "metadata": {},
   "outputs": [
    {
     "data": {
      "text/plain": [
       "array([[0., 0., 0., 0., 0.],\n",
       "       [0., 0., 0., 0., 0.],\n",
       "       [0., 0., 0., 0., 0.],\n",
       "       [0., 0., 0., 0., 0.],\n",
       "       [0., 0., 0., 0., 0.],\n",
       "       [0., 0., 0., 0., 0.],\n",
       "       [0., 0., 0., 0., 0.],\n",
       "       [0., 0., 0., 0., 0.],\n",
       "       [0., 0., 0., 0., 0.],\n",
       "       [0., 0., 0., 0., 0.]])"
      ]
     },
     "execution_count": 72,
     "metadata": {},
     "output_type": "execute_result"
    }
   ],
   "source": [
    "np.zeros((10,5))"
   ]
  },
  {
   "cell_type": "code",
   "execution_count": 11,
   "metadata": {},
   "outputs": [
    {
     "data": {
      "text/plain": [
       "array([1., 1., 1.])"
      ]
     },
     "execution_count": 11,
     "metadata": {},
     "output_type": "execute_result"
    }
   ],
   "source": [
    "np.ones(3)"
   ]
  },
  {
   "cell_type": "code",
   "execution_count": 73,
   "metadata": {},
   "outputs": [
    {
     "data": {
      "text/plain": [
       "array([[1., 1., 1., 1.],\n",
       "       [1., 1., 1., 1.],\n",
       "       [1., 1., 1., 1.],\n",
       "       [1., 1., 1., 1.],\n",
       "       [1., 1., 1., 1.]])"
      ]
     },
     "execution_count": 73,
     "metadata": {},
     "output_type": "execute_result"
    }
   ],
   "source": [
    "np.ones((5,4))"
   ]
  },
  {
   "cell_type": "markdown",
   "metadata": {},
   "source": [
    "How can I make a 5 x 4 matrix of 1's?"
   ]
  },
  {
   "cell_type": "code",
   "execution_count": 12,
   "metadata": {},
   "outputs": [
    {
     "data": {
      "text/plain": [
       "array([[1., 1., 1., 1.],\n",
       "       [1., 1., 1., 1.],\n",
       "       [1., 1., 1., 1.],\n",
       "       [1., 1., 1., 1.],\n",
       "       [1., 1., 1., 1.]])"
      ]
     },
     "execution_count": 12,
     "metadata": {},
     "output_type": "execute_result"
    }
   ],
   "source": [
    "np.ones((5, 4))"
   ]
  },
  {
   "cell_type": "markdown",
   "metadata": {},
   "source": [
    "Create an array with 3 items, all of the value 21. "
   ]
  },
  {
   "cell_type": "code",
   "execution_count": 74,
   "metadata": {},
   "outputs": [
    {
     "data": {
      "text/plain": [
       "array([21, 21, 21])"
      ]
     },
     "execution_count": 74,
     "metadata": {},
     "output_type": "execute_result"
    }
   ],
   "source": [
    "np.full(3, 21)"
   ]
  },
  {
   "cell_type": "code",
   "execution_count": null,
   "metadata": {},
   "outputs": [],
   "source": [
    "# np.full does NOT take double ()\n",
    "# np.full = filling the array with a certain value."
   ]
  },
  {
   "cell_type": "code",
   "execution_count": 76,
   "metadata": {},
   "outputs": [
    {
     "data": {
      "text/plain": [
       "array([[-10.3, -10.3],\n",
       "       [-10.3, -10.3],\n",
       "       [-10.3, -10.3]])"
      ]
     },
     "execution_count": 76,
     "metadata": {},
     "output_type": "execute_result"
    }
   ],
   "source": [
    "np.full((3, 2), -10.3)"
   ]
  },
  {
   "cell_type": "markdown",
   "metadata": {},
   "source": [
    "Create a 3x2 matrix of -10. "
   ]
  },
  {
   "cell_type": "code",
   "execution_count": 14,
   "metadata": {},
   "outputs": [
    {
     "data": {
      "text/plain": [
       "matrix([[-10, -10],\n",
       "        [-10, -10],\n",
       "        [-10, -10]])"
      ]
     },
     "execution_count": 14,
     "metadata": {},
     "output_type": "execute_result"
    }
   ],
   "source": [
    "create = np.matrix([[-10, -10],\n",
    "                   [-10, -10],\n",
    "                   [-10, -10]])\n",
    "create"
   ]
  },
  {
   "cell_type": "markdown",
   "metadata": {},
   "source": [
    "#### Create an array of numbers in a designated range\n",
    "\n",
    "Numpy's `arange` function is very similar to python's builtin range function. It can take a single argument and generate a range from zero up to, but not including, the passed number."
   ]
  },
  {
   "cell_type": "code",
   "execution_count": 15,
   "metadata": {},
   "outputs": [
    {
     "data": {
      "text/plain": [
       "array([0, 1, 2])"
      ]
     },
     "execution_count": 15,
     "metadata": {},
     "output_type": "execute_result"
    }
   ],
   "source": [
    "np.arange(3)"
   ]
  },
  {
   "cell_type": "code",
   "execution_count": 77,
   "metadata": {},
   "outputs": [
    {
     "data": {
      "text/plain": [
       "array([0, 1, 2, 3, 4, 5, 6, 7, 8, 9])"
      ]
     },
     "execution_count": 77,
     "metadata": {},
     "output_type": "execute_result"
    }
   ],
   "source": [
    "np.arange(10) # array of 0 to 9, excluding the 10 : 10 values starting at 0."
   ]
  },
  {
   "cell_type": "code",
   "execution_count": 78,
   "metadata": {},
   "outputs": [
    {
     "data": {
      "text/plain": [
       "array([2, 3, 4, 5, 6, 7, 8, 9])"
      ]
     },
     "execution_count": 78,
     "metadata": {},
     "output_type": "execute_result"
    }
   ],
   "source": [
    "np.arange(2, 10) # a range : starts at 2 and stops at before 10 (ie, 9)"
   ]
  },
  {
   "cell_type": "markdown",
   "metadata": {},
   "source": [
    "Specify a starting point:"
   ]
  },
  {
   "cell_type": "code",
   "execution_count": 16,
   "metadata": {},
   "outputs": [
    {
     "data": {
      "text/plain": [
       "array([1, 2, 3])"
      ]
     },
     "execution_count": 16,
     "metadata": {},
     "output_type": "execute_result"
    }
   ],
   "source": [
    "np.arange(1,4)"
   ]
  },
  {
   "cell_type": "code",
   "execution_count": null,
   "metadata": {},
   "outputs": [],
   "source": []
  },
  {
   "cell_type": "markdown",
   "metadata": {},
   "source": [
    "Specify a step:"
   ]
  },
  {
   "cell_type": "code",
   "execution_count": 80,
   "metadata": {},
   "outputs": [
    {
     "data": {
      "text/plain": [
       "array([2, 6])"
      ]
     },
     "execution_count": 80,
     "metadata": {},
     "output_type": "execute_result"
    }
   ],
   "source": [
    "# count by 2\n",
    "np.arange(2,10, 4) # starts at 2, up to 10, counting b y 4"
   ]
  },
  {
   "cell_type": "code",
   "execution_count": 17,
   "metadata": {},
   "outputs": [
    {
     "data": {
      "text/plain": [
       "array([1, 3, 5, 7, 9])"
      ]
     },
     "execution_count": 17,
     "metadata": {},
     "output_type": "execute_result"
    }
   ],
   "source": [
    "np.arange(1,10,2)"
   ]
  },
  {
   "cell_type": "markdown",
   "metadata": {},
   "source": [
    "The `linspace` method creates a range of numbers between a minimum and a maximum, with a set number of elements."
   ]
  },
  {
   "cell_type": "code",
   "execution_count": 18,
   "metadata": {},
   "outputs": [
    {
     "data": {
      "text/plain": [
       "array([2., 3., 4., 5.])"
      ]
     },
     "execution_count": 18,
     "metadata": {},
     "output_type": "execute_result"
    }
   ],
   "source": [
    "# min, max, length\n",
    "np.linspace(2, 5, 4)"
   ]
  },
  {
   "cell_type": "code",
   "execution_count": 94,
   "metadata": {},
   "outputs": [
    {
     "data": {
      "text/plain": [
       "array([ 1.        ,  1.40909091,  1.81818182,  2.22727273,  2.63636364,\n",
       "        3.04545455,  3.45454545,  3.86363636,  4.27272727,  4.68181818,\n",
       "        5.09090909,  5.5       ,  5.90909091,  6.31818182,  6.72727273,\n",
       "        7.13636364,  7.54545455,  7.95454545,  8.36363636,  8.77272727,\n",
       "        9.18181818,  9.59090909, 10.        ])"
      ]
     },
     "execution_count": 94,
     "metadata": {},
     "output_type": "execute_result"
    }
   ],
   "source": [
    "np.linspace(1, 10, 23)\n",
    "# min of 1, max of 10, with 23 elements \n",
    "# includes max and min\n",
    "\n",
    "# the numbers are not random, but are evenly spaced"
   ]
  },
  {
   "cell_type": "code",
   "execution_count": null,
   "metadata": {},
   "outputs": [],
   "source": []
  },
  {
   "cell_type": "markdown",
   "metadata": {},
   "source": [
    "#### Create an array of random integers\n",
    "\n",
    "The `np.random.randint(start, stop)` creates an array of random integers between start (including) and stop (excluding). "
   ]
  },
  {
   "cell_type": "code",
   "execution_count": 19,
   "metadata": {},
   "outputs": [
    {
     "data": {
      "text/plain": [
       "3"
      ]
     },
     "execution_count": 19,
     "metadata": {},
     "output_type": "execute_result"
    }
   ],
   "source": [
    "# So the following line is like rolling a 6-sided die\n",
    "x = np.random.randint(1, 7)\n",
    "x"
   ]
  },
  {
   "cell_type": "code",
   "execution_count": 124,
   "metadata": {},
   "outputs": [
    {
     "data": {
      "text/plain": [
       "array([8, 7, 3, 4, 7, 3, 3, 7, 2, 1])"
      ]
     },
     "execution_count": 124,
     "metadata": {},
     "output_type": "execute_result"
    }
   ],
   "source": [
    "b = np.random.randint(1,9, 10)\n",
    "b\n",
    "# put curser inside of first parenthese and hit 'shift','tab' to get instructions\n",
    "\n",
    "# random integer, starting at 1 and up to, but not including, 9. The 10 = how many times to roll."
   ]
  },
  {
   "cell_type": "code",
   "execution_count": 127,
   "metadata": {},
   "outputs": [
    {
     "data": {
      "text/plain": [
       "array([[2, 1],\n",
       "       [6, 7],\n",
       "       [2, 3],\n",
       "       [5, 6],\n",
       "       [4, 2]])"
      ]
     },
     "execution_count": 127,
     "metadata": {},
     "output_type": "execute_result"
    }
   ],
   "source": [
    "b = np.random.randint(1,9, (5,2)) # this creates a tuple, which creates an array\n",
    "b"
   ]
  },
  {
   "cell_type": "markdown",
   "metadata": {},
   "source": [
    "# Access items in arrays using indexing, slicing\n",
    "\n",
    "Referencing elements in numpy arrays at its most basic is the same as referencing elements in Python lists. To obtain the 2nd item in the array, we would write `a[1]`"
   ]
  },
  {
   "cell_type": "code",
   "execution_count": 128,
   "metadata": {},
   "outputs": [
    {
     "data": {
      "text/plain": [
       "array([ 2,  3,  5,  8, 13])"
      ]
     },
     "execution_count": 128,
     "metadata": {},
     "output_type": "execute_result"
    }
   ],
   "source": [
    "a = np.array([2,3,5,8,13])\n",
    "a"
   ]
  },
  {
   "cell_type": "code",
   "execution_count": 136,
   "metadata": {},
   "outputs": [
    {
     "data": {
      "text/plain": [
       "2"
      ]
     },
     "execution_count": 136,
     "metadata": {},
     "output_type": "execute_result"
    }
   ],
   "source": [
    "ab = np.array([0,1,1,2,3,5,8,13])\n",
    "\n",
    "ab[3] # calls the 4th in the sequence"
   ]
  },
  {
   "cell_type": "markdown",
   "metadata": {},
   "source": [
    "To obtain the 2nd, 3rd, and 4th items, we would write `a[1:4]`. The starting index is inclusive and the ending index is exclusive. "
   ]
  },
  {
   "cell_type": "code",
   "execution_count": 138,
   "metadata": {},
   "outputs": [
    {
     "data": {
      "text/plain": [
       "array([3, 5, 8])"
      ]
     },
     "execution_count": 138,
     "metadata": {},
     "output_type": "execute_result"
    }
   ],
   "source": [
    "a[1:4]\n"
   ]
  },
  {
   "cell_type": "markdown",
   "metadata": {},
   "source": [
    "To obtain the 3rd index through the end of the array, we would write `a[2:]`. "
   ]
  },
  {
   "cell_type": "code",
   "execution_count": 22,
   "metadata": {},
   "outputs": [
    {
     "data": {
      "text/plain": [
       "array([ 5,  8, 13])"
      ]
     },
     "execution_count": 22,
     "metadata": {},
     "output_type": "execute_result"
    }
   ],
   "source": [
    "a[2:]"
   ]
  },
  {
   "cell_type": "code",
   "execution_count": 139,
   "metadata": {},
   "outputs": [
    {
     "data": {
      "text/plain": [
       "13"
      ]
     },
     "execution_count": 139,
     "metadata": {},
     "output_type": "execute_result"
    }
   ],
   "source": [
    "# to access final item in the list\n",
    "ab[-1]"
   ]
  },
  {
   "cell_type": "code",
   "execution_count": 140,
   "metadata": {},
   "outputs": [
    {
     "data": {
      "text/plain": [
       "array([ 8, 13])"
      ]
     },
     "execution_count": 140,
     "metadata": {},
     "output_type": "execute_result"
    }
   ],
   "source": [
    "# access the final 2 items\n",
    "ab[-2:]"
   ]
  },
  {
   "cell_type": "markdown",
   "metadata": {},
   "source": [
    "For a 2-D numpy array, or matrix, called `m`, to obtain the element in second row (index = 1) and third column (index = 2), we would write `m[1,2]`."
   ]
  },
  {
   "cell_type": "code",
   "execution_count": 23,
   "metadata": {},
   "outputs": [],
   "source": [
    "m = np.array([[2,3,5],\n",
    "              [8,13,21],\n",
    "              [34,55,89]]\n",
    "            )"
   ]
  },
  {
   "cell_type": "code",
   "execution_count": 143,
   "metadata": {},
   "outputs": [
    {
     "data": {
      "text/plain": [
       "array([[ 8],\n",
       "       [34]])"
      ]
     },
     "execution_count": 143,
     "metadata": {},
     "output_type": "execute_result"
    }
   ],
   "source": [
    "# second row (index = 1) and third column (index = 2), we would write m[1,2].\n",
    "m[1,2]"
   ]
  },
  {
   "cell_type": "markdown",
   "metadata": {},
   "source": [
    "To access the 2nd and 3rd rows of the 1st column of the matrix, we write `m[1:, 0:1]`:"
   ]
  },
  {
   "cell_type": "code",
   "execution_count": 144,
   "metadata": {},
   "outputs": [
    {
     "data": {
      "text/plain": [
       "array([[ 8],\n",
       "       [34]])"
      ]
     },
     "execution_count": 144,
     "metadata": {},
     "output_type": "execute_result"
    }
   ],
   "source": [
    "m[1:, 0:1]\n",
    "# 1: = 8, 0:1 = 34"
   ]
  },
  {
   "cell_type": "markdown",
   "metadata": {},
   "source": [
    "### Built-in methods and functions\n",
    "\n",
    "Methods are called *on* the numpy object, so they begin with the numpy array variable name, which is `a` in this case. \n",
    "These are methods: a.sum(), a.mean(), a.min(), a.max(), a.std()\n",
    "\n",
    "Functions begin with `np.` and the array is one of the function arguments, such as `np.sqrt(a)`. \n",
    "\n",
    "Some operations have both a method and a function, such as summing all items in an array. `np.sum(a)` and `a.sum()` do the same thing. "
   ]
  },
  {
   "cell_type": "code",
   "execution_count": 25,
   "metadata": {},
   "outputs": [
    {
     "data": {
      "text/plain": [
       "(31, 6.2, 2, 13, 3.9698866482558417)"
      ]
     },
     "execution_count": 25,
     "metadata": {},
     "output_type": "execute_result"
    }
   ],
   "source": [
    "a.sum(), a.mean(), a.min(), a.max(), a.std()"
   ]
  },
  {
   "cell_type": "code",
   "execution_count": 150,
   "metadata": {},
   "outputs": [
    {
     "data": {
      "text/plain": [
       "(33, 4.125, 0, 13, 3.9699)"
      ]
     },
     "execution_count": 150,
     "metadata": {},
     "output_type": "execute_result"
    }
   ],
   "source": [
    "ab.sum(), ab.mean(), ab.min(), a.max(), round(a.std(),4)"
   ]
  },
  {
   "cell_type": "code",
   "execution_count": 151,
   "metadata": {},
   "outputs": [
    {
     "data": {
      "text/plain": [
       "33"
      ]
     },
     "execution_count": 151,
     "metadata": {},
     "output_type": "execute_result"
    }
   ],
   "source": [
    "np.sum(ab)"
   ]
  },
  {
   "cell_type": "code",
   "execution_count": 152,
   "metadata": {},
   "outputs": [
    {
     "data": {
      "text/plain": [
       "2.5"
      ]
     },
     "execution_count": 152,
     "metadata": {},
     "output_type": "execute_result"
    }
   ],
   "source": [
    "np.median(ab)"
   ]
  },
  {
   "cell_type": "code",
   "execution_count": 28,
   "metadata": {},
   "outputs": [
    {
     "data": {
      "text/plain": [
       "array([1.41421356, 1.73205081, 2.23606798, 2.82842712, 3.60555128])"
      ]
     },
     "execution_count": 28,
     "metadata": {},
     "output_type": "execute_result"
    }
   ],
   "source": [
    "np.sqrt(a)"
   ]
  },
  {
   "cell_type": "markdown",
   "metadata": {},
   "source": [
    "`.all` -- every single element is `True`"
   ]
  },
  {
   "cell_type": "code",
   "execution_count": 29,
   "metadata": {},
   "outputs": [
    {
     "data": {
      "text/plain": [
       "False"
      ]
     },
     "execution_count": 29,
     "metadata": {},
     "output_type": "execute_result"
    }
   ],
   "source": [
    "# Are all the elements in a less than 10?\n",
    "(a < 10).all()"
   ]
  },
  {
   "cell_type": "markdown",
   "metadata": {},
   "source": [
    "`.any` -- at least one element is `True`"
   ]
  },
  {
   "cell_type": "code",
   "execution_count": 30,
   "metadata": {},
   "outputs": [
    {
     "data": {
      "text/plain": [
       "False"
      ]
     },
     "execution_count": 30,
     "metadata": {},
     "output_type": "execute_result"
    }
   ],
   "source": [
    "# Are there any negative numbers?\n",
    "(a < 0).any()"
   ]
  },
  {
   "cell_type": "markdown",
   "metadata": {},
   "source": [
    "### Vectorized Operations\n",
    "\n",
    "If we wanted to add 1 to every element in a list, without numpy, we can't simply add 1 to the list, as that will result in a TypeError: \n",
    "\n",
    "`[1, 2, 3, 4, 5] + 1`"
   ]
  },
  {
   "cell_type": "code",
   "execution_count": 31,
   "metadata": {},
   "outputs": [
    {
     "ename": "TypeError",
     "evalue": "can only concatenate list (not \"int\") to list",
     "output_type": "error",
     "traceback": [
      "\u001b[0;31m---------------------------------------------------------------------------\u001b[0m",
      "\u001b[0;31mTypeError\u001b[0m                                 Traceback (most recent call last)",
      "Input \u001b[0;32mIn [31]\u001b[0m, in \u001b[0;36m<cell line: 1>\u001b[0;34m()\u001b[0m\n\u001b[0;32m----> 1\u001b[0m \u001b[43m[\u001b[49m\u001b[38;5;241;43m1\u001b[39;49m\u001b[43m,\u001b[49m\u001b[43m \u001b[49m\u001b[38;5;241;43m2\u001b[39;49m\u001b[43m,\u001b[49m\u001b[43m \u001b[49m\u001b[38;5;241;43m3\u001b[39;49m\u001b[43m,\u001b[49m\u001b[43m \u001b[49m\u001b[38;5;241;43m4\u001b[39;49m\u001b[43m,\u001b[49m\u001b[43m \u001b[49m\u001b[38;5;241;43m5\u001b[39;49m\u001b[43m]\u001b[49m\u001b[43m \u001b[49m\u001b[38;5;241;43m+\u001b[39;49m\u001b[43m \u001b[49m\u001b[38;5;241;43m1\u001b[39;49m\n",
      "\u001b[0;31mTypeError\u001b[0m: can only concatenate list (not \"int\") to list"
     ]
    }
   ],
   "source": [
    "[1, 2, 3, 4, 5] + 1"
   ]
  },
  {
   "cell_type": "markdown",
   "metadata": {},
   "source": [
    "We would have to use a loop or a list comprehension:"
   ]
  },
  {
   "cell_type": "code",
   "execution_count": 32,
   "metadata": {},
   "outputs": [
    {
     "data": {
      "text/plain": [
       "[2, 3, 4, 5, 6]"
      ]
     },
     "execution_count": 32,
     "metadata": {},
     "output_type": "execute_result"
    }
   ],
   "source": [
    "my_list = [1, 2, 3, 4, 5]\n",
    "new_list = [n + 1 for n in my_list]\n",
    "new_list"
   ]
  },
  {
   "cell_type": "markdown",
   "metadata": {},
   "source": [
    "Vectorizing operations means that operations are automatically applied to every element in a vector, which in our case will be a numpy array. So if we are working with a numpy array, we can simply add 1:"
   ]
  },
  {
   "cell_type": "code",
   "execution_count": 33,
   "metadata": {},
   "outputs": [
    {
     "data": {
      "text/plain": [
       "array([2, 3, 4, 5, 6])"
      ]
     },
     "execution_count": 33,
     "metadata": {},
     "output_type": "execute_result"
    }
   ],
   "source": [
    "a = np.array(my_list)\n",
    "a + 1"
   ]
  },
  {
   "cell_type": "markdown",
   "metadata": {},
   "source": [
    "`a * 2` and reassign to `a`: "
   ]
  },
  {
   "cell_type": "code",
   "execution_count": 35,
   "metadata": {},
   "outputs": [
    {
     "data": {
      "text/plain": [
       "array([10.24, 20.48, 30.72, 40.96, 51.2 ])"
      ]
     },
     "execution_count": 35,
     "metadata": {},
     "output_type": "execute_result"
    }
   ],
   "source": [
    "# reassign a to hold the result of a * 2\n",
    "a = a * 3.2\n",
    "a + 1\n",
    "a"
   ]
  },
  {
   "cell_type": "markdown",
   "metadata": {},
   "source": [
    "Or..."
   ]
  },
  {
   "cell_type": "code",
   "execution_count": 36,
   "metadata": {},
   "outputs": [
    {
     "data": {
      "text/plain": [
       "array([ 20.48,  40.96,  61.44,  81.92, 102.4 ])"
      ]
     },
     "execution_count": 36,
     "metadata": {},
     "output_type": "execute_result"
    }
   ],
   "source": [
    "a *= 2\n",
    "a"
   ]
  },
  {
   "cell_type": "code",
   "execution_count": 37,
   "metadata": {},
   "outputs": [
    {
     "data": {
      "text/plain": [
       "array([  419.4304,  1677.7216,  3774.8736,  6710.8864, 10485.76  ])"
      ]
     },
     "execution_count": 37,
     "metadata": {},
     "output_type": "execute_result"
    }
   ],
   "source": [
    "a ** 2"
   ]
  },
  {
   "cell_type": "markdown",
   "metadata": {},
   "source": [
    "Write an operation that divides each element by 2 and then adds 3. "
   ]
  },
  {
   "cell_type": "code",
   "execution_count": 38,
   "metadata": {},
   "outputs": [
    {
     "data": {
      "text/plain": [
       "array([13.24, 23.48, 33.72, 43.96, 54.2 ])"
      ]
     },
     "execution_count": 38,
     "metadata": {},
     "output_type": "execute_result"
    }
   ],
   "source": [
    " a / 2 + 3"
   ]
  },
  {
   "cell_type": "markdown",
   "metadata": {},
   "source": [
    "What happens if we subtract `a` from itself? "
   ]
  },
  {
   "cell_type": "code",
   "execution_count": 39,
   "metadata": {},
   "outputs": [
    {
     "data": {
      "text/plain": [
       "array([0., 0., 0., 0., 0.])"
      ]
     },
     "execution_count": 39,
     "metadata": {},
     "output_type": "execute_result"
    }
   ],
   "source": [
    "a - a"
   ]
  },
  {
   "cell_type": "markdown",
   "metadata": {},
   "source": [
    "Find even numbers"
   ]
  },
  {
   "cell_type": "code",
   "execution_count": 43,
   "metadata": {},
   "outputs": [
    {
     "data": {
      "text/plain": [
       "array([0, 1, 1, 0, 1, 1])"
      ]
     },
     "execution_count": 43,
     "metadata": {},
     "output_type": "execute_result"
    }
   ],
   "source": [
    "a = np.array([2, 3, 5, 8, 13, 21])\n",
    "a % 2\n"
   ]
  },
  {
   "cell_type": "markdown",
   "metadata": {},
   "source": [
    "The items with a value of 0 are even because they have no remainder. Those with a one are odd, because they have a remainder of 1. We can use a boolean mask to filter to just the even numbers. "
   ]
  },
  {
   "cell_type": "markdown",
   "metadata": {},
   "source": [
    "### Filtering Arrays using boolean masks"
   ]
  },
  {
   "cell_type": "code",
   "execution_count": 44,
   "metadata": {},
   "outputs": [
    {
     "data": {
      "text/plain": [
       "array([ True, False, False,  True, False, False])"
      ]
     },
     "execution_count": 44,
     "metadata": {},
     "output_type": "execute_result"
    }
   ],
   "source": [
    "is_even = a % 2 == 0\n",
    "is_even"
   ]
  },
  {
   "cell_type": "code",
   "execution_count": 45,
   "metadata": {},
   "outputs": [
    {
     "data": {
      "text/plain": [
       "array([2, 8])"
      ]
     },
     "execution_count": 45,
     "metadata": {},
     "output_type": "execute_result"
    }
   ],
   "source": [
    "a[is_even]"
   ]
  },
  {
   "cell_type": "markdown",
   "metadata": {},
   "source": [
    "**or**"
   ]
  },
  {
   "cell_type": "code",
   "execution_count": 46,
   "metadata": {},
   "outputs": [
    {
     "data": {
      "text/plain": [
       "array([2, 8])"
      ]
     },
     "execution_count": 46,
     "metadata": {},
     "output_type": "execute_result"
    }
   ],
   "source": [
    "a[a % 2 == 0]"
   ]
  },
  {
   "cell_type": "markdown",
   "metadata": {},
   "source": [
    "Expressions that return true or false can be used as our filter. "
   ]
  },
  {
   "cell_type": "code",
   "execution_count": 47,
   "metadata": {},
   "outputs": [
    {
     "data": {
      "text/plain": [
       "array([False, False,  True,  True,  True])"
      ]
     },
     "execution_count": 47,
     "metadata": {},
     "output_type": "execute_result"
    }
   ],
   "source": [
    "a = np.array([-3, 0, 3, 6, 9])\n",
    "a > 0"
   ]
  },
  {
   "cell_type": "markdown",
   "metadata": {},
   "source": [
    "It might help to read this as SQL in your head: \"select a where a > 0\""
   ]
  },
  {
   "cell_type": "code",
   "execution_count": null,
   "metadata": {},
   "outputs": [],
   "source": [
    "a[a > 0]"
   ]
  },
  {
   "cell_type": "code",
   "execution_count": null,
   "metadata": {},
   "outputs": [],
   "source": [
    "# select a where a == 3\n",
    "a[a == 3]"
   ]
  },
  {
   "cell_type": "code",
   "execution_count": null,
   "metadata": {},
   "outputs": [],
   "source": [
    "# select a where a != 3\n",
    "a[a != 3]"
   ]
  },
  {
   "cell_type": "markdown",
   "metadata": {},
   "source": [
    "In the Python admissions test, there was a question called \"remove_evens\" where you write a function that removes evens. Using numpy, your function could look like: "
   ]
  },
  {
   "cell_type": "code",
   "execution_count": null,
   "metadata": {},
   "outputs": [],
   "source": [
    "def remove_evens(x):\n",
    "    x = np.array(x)\n",
    "    return x[x % 2 == 1]\n",
    "\n",
    "odds = remove_evens([2, 3, 5, 8, 13])\n",
    "odds"
   ]
  },
  {
   "cell_type": "markdown",
   "metadata": {},
   "source": [
    "Combine boolean arrays with `&` for \"and\", `|` for \"or\"\n",
    "\n",
    "For example, create an array of all positive, even numbers from the original array below. "
   ]
  },
  {
   "cell_type": "code",
   "execution_count": null,
   "metadata": {},
   "outputs": [],
   "source": [
    "a = np.array([-3, 0, 1, 1, 2, 3, 5, 8, 13, 21])\n",
    "new_a = a[(a > 0) & (a % 2 == 0)]\n",
    "new_a"
   ]
  },
  {
   "cell_type": "markdown",
   "metadata": {},
   "source": [
    "Create an array of all positive OR even numbers from the original array below. "
   ]
  },
  {
   "cell_type": "code",
   "execution_count": null,
   "metadata": {},
   "outputs": [],
   "source": [
    "new_a = a[(a > 0) | (a % 2 == 0)]\n",
    "new_a"
   ]
  },
  {
   "cell_type": "markdown",
   "metadata": {},
   "source": [
    "Negate a mask"
   ]
  },
  {
   "cell_type": "code",
   "execution_count": 49,
   "metadata": {},
   "outputs": [
    {
     "data": {
      "text/plain": [
       "array([ True, False,  True,  True, False,  True,  True, False,  True,\n",
       "        True])"
      ]
     },
     "execution_count": 49,
     "metadata": {},
     "output_type": "execute_result"
    }
   ],
   "source": [
    "a = np.array([-3, 0, 1, 1, 2, 3, 5, 8, 13, 21])\n",
    "odds = a % 2 == 1\n",
    "odds"
   ]
  },
  {
   "cell_type": "code",
   "execution_count": 50,
   "metadata": {},
   "outputs": [
    {
     "data": {
      "text/plain": [
       "array([False,  True, False, False,  True, False, False,  True, False,\n",
       "       False])"
      ]
     },
     "execution_count": 50,
     "metadata": {},
     "output_type": "execute_result"
    }
   ],
   "source": [
    "evens = ~ odds\n",
    "evens"
   ]
  },
  {
   "cell_type": "code",
   "execution_count": null,
   "metadata": {},
   "outputs": [],
   "source": [
    "# these will all return the same thing, the even numbers \n",
    "\n",
    "a[~(a % 2 == 1)]\n",
    "\n",
    "# a[~odds]\n",
    "\n",
    "# a[evens]\n",
    "\n",
    "# a[a % 2 == 0]\n"
   ]
  },
  {
   "cell_type": "markdown",
   "metadata": {},
   "source": [
    "### Array data types \n",
    "\n",
    "The data type of an array is the LCD...lowest common datatype. \n",
    "\n",
    "- Most datatypes can be converted to strings or objects, so if there is a string, that will be the LCD. \n",
    "\n",
    "- All numbers can be converted to decimals, so that is the LCD of numbers. \n",
    "\n",
    "- Only integers can be converted to integers, so that will only be the datatype when all values are INTs. "
   ]
  },
  {
   "cell_type": "code",
   "execution_count": 51,
   "metadata": {},
   "outputs": [
    {
     "data": {
      "text/plain": [
       "(array(['1', '2', '3', '4'], dtype='<U21'), dtype('<U21'))"
      ]
     },
     "execution_count": 51,
     "metadata": {},
     "output_type": "execute_result"
    }
   ],
   "source": [
    "a = np.array([1, 2, '3', 4])\n",
    "a, a.dtype\n",
    "\n",
    "# U21 = Unicode, 21 character"
   ]
  },
  {
   "cell_type": "code",
   "execution_count": 52,
   "metadata": {},
   "outputs": [
    {
     "data": {
      "text/plain": [
       "(array([1.  , 2.01, 3.  , 4.  ]), dtype('float64'))"
      ]
     },
     "execution_count": 52,
     "metadata": {},
     "output_type": "execute_result"
    }
   ],
   "source": [
    "a = np.array([1, 2.01, 3, 4])\n",
    "a, a.dtype"
   ]
  },
  {
   "cell_type": "code",
   "execution_count": 53,
   "metadata": {},
   "outputs": [
    {
     "data": {
      "text/plain": [
       "(array([1, 2, 3, 4]), dtype('int64'))"
      ]
     },
     "execution_count": 53,
     "metadata": {},
     "output_type": "execute_result"
    }
   ],
   "source": [
    "a = np.array([1, 2, 3, 4])\n",
    "a, a.dtype"
   ]
  },
  {
   "cell_type": "markdown",
   "metadata": {},
   "source": [
    "## More Examples"
   ]
  },
  {
   "cell_type": "markdown",
   "metadata": {},
   "source": [
    "We can use numpy to answer some questions:"
   ]
  },
  {
   "cell_type": "code",
   "execution_count": null,
   "metadata": {},
   "outputs": [],
   "source": [
    "# 1. How many data points are there?\n",
    "a.shape"
   ]
  },
  {
   "cell_type": "code",
   "execution_count": null,
   "metadata": {},
   "outputs": [],
   "source": [
    "# 2. How many data points are greater than 70? (.shape + .sum)\n",
    "a[a > 70].shape"
   ]
  },
  {
   "cell_type": "code",
   "execution_count": null,
   "metadata": {},
   "outputs": [],
   "source": [
    "# 2. How many data points are greater than 70?\n",
    "(a > 70).sum()"
   ]
  },
  {
   "cell_type": "code",
   "execution_count": null,
   "metadata": {},
   "outputs": [],
   "source": [
    "# 3. What is the sum of the odd numbers?\n",
    "a[a % 2 == 1].sum()"
   ]
  },
  {
   "cell_type": "code",
   "execution_count": null,
   "metadata": {},
   "outputs": [],
   "source": [
    "a[a < 10].shape"
   ]
  },
  {
   "cell_type": "code",
   "execution_count": null,
   "metadata": {},
   "outputs": [],
   "source": [
    "# 4. Take all the numbers between 30 and 80 (inclusive), square them, what is the highest resulting number?\n",
    "(a[(a >= 30) & (a <= 80)] ** 2).max()"
   ]
  },
  {
   "cell_type": "code",
   "execution_count": null,
   "metadata": {},
   "outputs": [],
   "source": [
    "# 4. Take all the numbers between 30 and 80 (inclusive), square them, what is the highest resulting number?\n",
    "more_than_30 = a >= 30\n",
    "less_than_80 = a <= 80\n",
    "\n",
    "in_our_desired_range = more_than_30 & less_than_80\n",
    "\n",
    "desired_numbers = a[in_our_desired_range]\n",
    "desired_numbers_squared = desired_numbers ** 2\n",
    "\n",
    "desired_numbers_squared.max()"
   ]
  },
  {
   "cell_type": "markdown",
   "metadata": {},
   "source": [
    "`np.where` will produce values conditionally, based on a boolean array"
   ]
  },
  {
   "cell_type": "code",
   "execution_count": null,
   "metadata": {},
   "outputs": [],
   "source": [
    "# 5. Square the odd numbers in the array. What is the average of the resulting data set? (np.where)\n",
    "odd_numbers_squared = np.where(a % 2 == 1, a ** 2, a)\n",
    "\n",
    "odd_numbers_squared.mean()"
   ]
  },
  {
   "cell_type": "code",
   "execution_count": null,
   "metadata": {},
   "outputs": [],
   "source": [
    "# 6. Square the even numbers in the array. Remove any odd number less than 40.\n",
    "#    Double odd numbers greater than 80. What is the sum of the resulting dataset?\n",
    "evens_squared = np.where(a % 2 == 0, a ** 2, a)\n",
    "x = evens_squared[(evens_squared % 2 == 1) & (evens_squared < 40)]\n",
    "x = np.where(x % 2 == 1, x * 2, x)\n",
    "x.sum()"
   ]
  }
 ],
 "metadata": {
  "kernelspec": {
   "display_name": "Python 3 (ipykernel)",
   "language": "python",
   "name": "python3"
  },
  "language_info": {
   "codemirror_mode": {
    "name": "ipython",
    "version": 3
   },
   "file_extension": ".py",
   "mimetype": "text/x-python",
   "name": "python",
   "nbconvert_exporter": "python",
   "pygments_lexer": "ipython3",
   "version": "3.9.13"
  }
 },
 "nbformat": 4,
 "nbformat_minor": 4
}
