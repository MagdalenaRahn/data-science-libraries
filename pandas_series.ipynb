{
 "cells": [
  {
   "cell_type": "code",
   "execution_count": 113,
   "id": "0e443994",
   "metadata": {},
   "outputs": [],
   "source": [
    "# EXERCISES PART 1\n",
    "\n",
    "import pandas as pd\n",
    "import numpy as np\n",
    "from pydataset import data"
   ]
  },
  {
   "cell_type": "code",
   "execution_count": 114,
   "id": "3c034102",
   "metadata": {},
   "outputs": [
    {
     "data": {
      "text/plain": [
       "array(['kiwi', 'mango', 'strawberry', 'pineapple', 'gala apple',\n",
       "       'honeycrisp apple', 'tomato', 'watermelon', 'honeydew', 'kiwi',\n",
       "       'kiwi', 'kiwi', 'mango', 'blueberry', 'blackberry', 'gooseberry',\n",
       "       'papaya'], dtype='<U16')"
      ]
     },
     "execution_count": 114,
     "metadata": {},
     "output_type": "execute_result"
    }
   ],
   "source": [
    "fruited_array = np.array([\"kiwi\", \"mango\", \"strawberry\", \"pineapple\", \"gala apple\", \"honeycrisp apple\", \"tomato\", \"watermelon\", \"honeydew\", \"kiwi\", \"kiwi\", \"kiwi\", \"mango\", \"blueberry\", \"blackberry\", \"gooseberry\", \"papaya\"])\n",
    "fruited_array"
   ]
  },
  {
   "cell_type": "code",
   "execution_count": 115,
   "id": "b6210262",
   "metadata": {},
   "outputs": [
    {
     "data": {
      "text/plain": [
       "0                 kiwi\n",
       "1                mango\n",
       "2           strawberry\n",
       "3            pineapple\n",
       "4           gala apple\n",
       "5     honeycrisp apple\n",
       "6               tomato\n",
       "7           watermelon\n",
       "8             honeydew\n",
       "9                 kiwi\n",
       "10                kiwi\n",
       "11                kiwi\n",
       "12               mango\n",
       "13           blueberry\n",
       "14          blackberry\n",
       "15          gooseberry\n",
       "16              papaya\n",
       "dtype: object"
      ]
     },
     "execution_count": 115,
     "metadata": {},
     "output_type": "execute_result"
    }
   ],
   "source": [
    "fruited_series = pd.Series(fruited_array)\n",
    "fruited_series"
   ]
  },
  {
   "cell_type": "code",
   "execution_count": 75,
   "id": "8605c14a",
   "metadata": {},
   "outputs": [
    {
     "data": {
      "text/plain": [
       "0                 kiwi\n",
       "1                mango\n",
       "2           strawberry\n",
       "3            pineapple\n",
       "4           gala apple\n",
       "5     honeycrisp apple\n",
       "6               tomato\n",
       "7           watermelon\n",
       "8             honeydew\n",
       "9                 kiwi\n",
       "10                kiwi\n",
       "11                kiwi\n",
       "12               mango\n",
       "13           blueberry\n",
       "14          blackberry\n",
       "15          gooseberry\n",
       "16              papaya\n",
       "dtype: object"
      ]
     },
     "execution_count": 75,
     "metadata": {},
     "output_type": "execute_result"
    }
   ],
   "source": [
    "# alternate list to array to series\n",
    "\n",
    "fruited_series_alt = pd.Series([\"kiwi\", \"mango\", \"strawberry\", \"pineapple\", \"gala apple\", \"honeycrisp apple\", \"tomato\", \"watermelon\", \"honeydew\", \"kiwi\", \"kiwi\", \"kiwi\", \"mango\", \"blueberry\", \"blackberry\", \"gooseberry\", \"papaya\"])\n",
    "fruited_series_alt"
   ]
  },
  {
   "cell_type": "code",
   "execution_count": 77,
   "id": "b3717a3e",
   "metadata": {},
   "outputs": [
    {
     "data": {
      "text/plain": [
       "<bound method Series.count of 0                 kiwi\n",
       "1                mango\n",
       "2           strawberry\n",
       "3            pineapple\n",
       "4           gala apple\n",
       "5     honeycrisp apple\n",
       "6               tomato\n",
       "7           watermelon\n",
       "8             honeydew\n",
       "9                 kiwi\n",
       "10                kiwi\n",
       "11                kiwi\n",
       "12               mango\n",
       "13           blueberry\n",
       "14          blackberry\n",
       "15          gooseberry\n",
       "16              papaya\n",
       "dtype: object>"
      ]
     },
     "execution_count": 77,
     "metadata": {},
     "output_type": "execute_result"
    }
   ],
   "source": [
    "# 1/ Determine the number of elements in fruits.\n",
    "fruited_series.count\n",
    "\n",
    "# fruited_series.size"
   ]
  },
  {
   "cell_type": "code",
   "execution_count": 76,
   "id": "d42e5bc8",
   "metadata": {},
   "outputs": [
    {
     "data": {
      "text/plain": [
       "17"
      ]
     },
     "execution_count": 76,
     "metadata": {},
     "output_type": "execute_result"
    }
   ],
   "source": [
    "# 1, alt \n",
    "len(fruited_series)"
   ]
  },
  {
   "cell_type": "code",
   "execution_count": 78,
   "id": "7c3f835a",
   "metadata": {},
   "outputs": [
    {
     "data": {
      "text/plain": [
       "17"
      ]
     },
     "execution_count": 78,
     "metadata": {},
     "output_type": "execute_result"
    }
   ],
   "source": [
    "# 1, alt\n",
    "\n",
    "fruited_series.size"
   ]
  },
  {
   "cell_type": "code",
   "execution_count": 80,
   "id": "798ed51c",
   "metadata": {},
   "outputs": [
    {
     "data": {
      "text/plain": [
       "RangeIndex(start=0, stop=17, step=1)"
      ]
     },
     "execution_count": 80,
     "metadata": {},
     "output_type": "execute_result"
    }
   ],
   "source": [
    "# 2/ Output only the index from fruits.\n",
    "\n",
    "fruited_series.index"
   ]
  },
  {
   "cell_type": "code",
   "execution_count": 84,
   "id": "30e617d4",
   "metadata": {},
   "outputs": [
    {
     "name": "stdout",
     "output_type": "stream",
     "text": [
      "['kiwi', 'mango', 'strawberry', 'pineapple', 'gala apple', 'honeycrisp apple', 'tomato', 'watermelon', 'honeydew', 'kiwi', 'kiwi', 'kiwi', 'mango', 'blueberry', 'blackberry', 'gooseberry', 'papaya']\n",
      "[0, 1, 2, 3, 4, 5, 6, 7, 8, 9, 10, 11, 12, 13, 14, 15, 16]\n"
     ]
    }
   ],
   "source": [
    "# 2, alt\n",
    "\n",
    "print(list(fruited_series.array))\n",
    "print(list(fruited_series.index))"
   ]
  },
  {
   "cell_type": "code",
   "execution_count": 89,
   "id": "73f52138",
   "metadata": {},
   "outputs": [
    {
     "name": "stdout",
     "output_type": "stream",
     "text": [
      "['kiwi' 'mango' 'strawberry' 'pineapple' 'gala apple' 'honeycrisp apple'\n",
      " 'tomato' 'watermelon' 'honeydew' 'kiwi' 'kiwi' 'kiwi' 'mango' 'blueberry'\n",
      " 'blackberry' 'gooseberry' 'papaya']\n",
      "...\n",
      "...\n",
      "['kiwi', 'mango', 'strawberry', 'pineapple', 'gala apple', 'honeycrisp apple', 'tomato', 'watermelon', 'honeydew', 'kiwi', 'kiwi', 'kiwi', 'mango', 'blueberry', 'blackberry', 'gooseberry', 'papaya']\n"
     ]
    }
   ],
   "source": [
    "# 3/ Output only the values from fruits.\n",
    "\n",
    "print(fruited_series.values)\n",
    "print('...')\n",
    "# or \n",
    "print('...')\n",
    "print(list(fruited_series.values))\n",
    "    "
   ]
  },
  {
   "cell_type": "code",
   "execution_count": 91,
   "id": "2d886951",
   "metadata": {},
   "outputs": [
    {
     "data": {
      "text/plain": [
       "dtype('O')"
      ]
     },
     "execution_count": 91,
     "metadata": {},
     "output_type": "execute_result"
    }
   ],
   "source": [
    "# 4/ Confirm the data type of the values in fruits.\n",
    "\n",
    "fruited_series.dtype\n",
    "\n",
    "# dtype = object\n",
    "\n",
    "# .dtypes also works"
   ]
  },
  {
   "cell_type": "code",
   "execution_count": 95,
   "id": "1c4c02de",
   "metadata": {},
   "outputs": [
    {
     "name": "stdout",
     "output_type": "stream",
     "text": [
      "First five fruits : \n",
      " 0          kiwi\n",
      "1         mango\n",
      "2    strawberry\n",
      "3     pineapple\n",
      "4    gala apple\n",
      "dtype: object\n",
      "...\n",
      "...\n",
      "Final three fruits : \n",
      " 14    blackberry\n",
      "15    gooseberry\n",
      "16        papaya\n",
      "dtype: object\n",
      "...\n",
      "...\n",
      "Random fruits : \n",
      " 7    watermelon\n",
      "3     pineapple\n",
      "dtype: object\n"
     ]
    }
   ],
   "source": [
    "# 5/ Output only the first five values from fruits. Output the last three values. \n",
    "# Output two random values from fruits.\n",
    "\n",
    "print('First five fruits : \\n',fruited_series.head(5))\n",
    "print('...')\n",
    "print('...')\n",
    "print('Final three fruits : \\n',fruited_series.tail(3))\n",
    "print('...')\n",
    "print('...')\n",
    "print('Random fruits : \\n',fruited_series.sample(2))"
   ]
  },
  {
   "cell_type": "code",
   "execution_count": 57,
   "id": "e3515975",
   "metadata": {},
   "outputs": [
    {
     "data": {
      "text/plain": [
       "count       17\n",
       "unique      13\n",
       "top       kiwi\n",
       "freq         4\n",
       "dtype: object"
      ]
     },
     "execution_count": 57,
     "metadata": {},
     "output_type": "execute_result"
    }
   ],
   "source": [
    "# 6/ Run the .describe() on fruits to see what information it returns when called on \n",
    "        # a Series with string values.\n",
    "\n",
    "fruited_series.describe()"
   ]
  },
  {
   "cell_type": "code",
   "execution_count": 60,
   "id": "8d186a20",
   "metadata": {},
   "outputs": [
    {
     "data": {
      "text/plain": [
       "array(['kiwi', 'mango', 'strawberry', 'pineapple', 'gala apple',\n",
       "       'honeycrisp apple', 'tomato', 'watermelon', 'honeydew',\n",
       "       'blueberry', 'blackberry', 'gooseberry', 'papaya'], dtype=object)"
      ]
     },
     "execution_count": 60,
     "metadata": {},
     "output_type": "execute_result"
    }
   ],
   "source": [
    "# 7/ Run the code necessary to produce only the unique string values from fruits.\n",
    "\n",
    "fruited_series.unique()"
   ]
  },
  {
   "cell_type": "code",
   "execution_count": 100,
   "id": "77d8b97b",
   "metadata": {},
   "outputs": [
    {
     "data": {
      "text/plain": [
       "['kiwi',\n",
       " 'mango',\n",
       " 'strawberry',\n",
       " 'pineapple',\n",
       " 'gala apple',\n",
       " 'honeycrisp apple',\n",
       " 'tomato',\n",
       " 'watermelon',\n",
       " 'honeydew',\n",
       " 'blueberry',\n",
       " 'blackberry',\n",
       " 'gooseberry',\n",
       " 'papaya']"
      ]
     },
     "execution_count": 100,
     "metadata": {},
     "output_type": "execute_result"
    }
   ],
   "source": [
    "# 7, alt\n",
    "\n",
    "list(fruited_series.value_counts().index)"
   ]
  },
  {
   "cell_type": "code",
   "execution_count": 68,
   "id": "d5b0e376",
   "metadata": {},
   "outputs": [
    {
     "data": {
      "text/plain": [
       "kiwi                4\n",
       "mango               2\n",
       "strawberry          1\n",
       "pineapple           1\n",
       "gala apple          1\n",
       "honeycrisp apple    1\n",
       "tomato              1\n",
       "watermelon          1\n",
       "honeydew            1\n",
       "blueberry           1\n",
       "blackberry          1\n",
       "gooseberry          1\n",
       "papaya              1\n",
       "dtype: int64"
      ]
     },
     "execution_count": 68,
     "metadata": {},
     "output_type": "execute_result"
    }
   ],
   "source": [
    "# 8/ Determine how many times each unique string value occurs in fruits.\n",
    "\n",
    "fruited_series.value_counts()\n"
   ]
  },
  {
   "cell_type": "code",
   "execution_count": 73,
   "id": "c9d89874",
   "metadata": {},
   "outputs": [
    {
     "data": {
      "text/plain": [
       "'kiwi'"
      ]
     },
     "execution_count": 73,
     "metadata": {},
     "output_type": "execute_result"
    }
   ],
   "source": [
    "# 9/ Determine the string value that occurs most frequently in fruits.\n",
    "\n",
    "fruited_series.value_counts().idxmax()\n",
    "\n",
    "# or : fruited_series.mode()"
   ]
  },
  {
   "cell_type": "code",
   "execution_count": 105,
   "id": "10471b40",
   "metadata": {},
   "outputs": [
    {
     "data": {
      "text/plain": [
       "kiwi    4\n",
       "dtype: int64"
      ]
     },
     "execution_count": 105,
     "metadata": {},
     "output_type": "execute_result"
    }
   ],
   "source": [
    "# 9, alt\n",
    "fruited_series.value_counts().nlargest(1)"
   ]
  },
  {
   "cell_type": "code",
   "execution_count": 108,
   "id": "ec78f9ff",
   "metadata": {},
   "outputs": [
    {
     "data": {
      "text/plain": [
       "kiwi    4\n",
       "dtype: int64"
      ]
     },
     "execution_count": 108,
     "metadata": {},
     "output_type": "execute_result"
    }
   ],
   "source": [
    "# 9, alt\n",
    "    \n",
    "fruited_series.value_counts().head(1)\n",
    "\n",
    "#value_counts sorts by default largest to smallest"
   ]
  },
  {
   "cell_type": "code",
   "execution_count": 109,
   "id": "d09f3eda",
   "metadata": {},
   "outputs": [
    {
     "data": {
      "text/plain": [
       "'kiwi'"
      ]
     },
     "execution_count": 109,
     "metadata": {},
     "output_type": "execute_result"
    }
   ],
   "source": [
    " # 9, alt\n",
    "    \n",
    "fruited_series.describe().loc['top']\n",
    "    \n",
    "    # .loc gives row name, which is, here, 'top'"
   ]
  },
  {
   "cell_type": "code",
   "execution_count": 63,
   "id": "abddc441",
   "metadata": {},
   "outputs": [
    {
     "data": {
      "text/plain": [
       "'blackberry'"
      ]
     },
     "execution_count": 63,
     "metadata": {},
     "output_type": "execute_result"
    }
   ],
   "source": [
    "# 10/  Determine the string value that occurs least frequently in fruits.\n",
    "fruited_series.min()"
   ]
  },
  {
   "cell_type": "code",
   "execution_count": 101,
   "id": "b3de5eb2",
   "metadata": {},
   "outputs": [
    {
     "data": {
      "text/plain": [
       "'strawberry'"
      ]
     },
     "execution_count": 101,
     "metadata": {},
     "output_type": "execute_result"
    }
   ],
   "source": [
    "# 10, alt\n",
    "fruited_series.value_counts().idxmin()"
   ]
  },
  {
   "cell_type": "code",
   "execution_count": 110,
   "id": "eb9beda2",
   "metadata": {},
   "outputs": [
    {
     "data": {
      "text/plain": [
       "strawberry          1\n",
       "pineapple           1\n",
       "gala apple          1\n",
       "honeycrisp apple    1\n",
       "tomato              1\n",
       "watermelon          1\n",
       "honeydew            1\n",
       "blueberry           1\n",
       "blackberry          1\n",
       "gooseberry          1\n",
       "papaya              1\n",
       "dtype: int64"
      ]
     },
     "execution_count": 110,
     "metadata": {},
     "output_type": "execute_result"
    }
   ],
   "source": [
    "# 10, alt\n",
    "\n",
    "fruited_series.value_counts().nsmallest(n = 1, keep = 'all')\n",
    "\n",
    "# this is the best metode, as it shows all of the smallest values"
   ]
  },
  {
   "cell_type": "code",
   "execution_count": 111,
   "id": "ff1dd6bd",
   "metadata": {},
   "outputs": [
    {
     "data": {
      "text/plain": [
       "strawberry          1\n",
       "pineapple           1\n",
       "gala apple          1\n",
       "honeycrisp apple    1\n",
       "tomato              1\n",
       "watermelon          1\n",
       "honeydew            1\n",
       "blueberry           1\n",
       "blackberry          1\n",
       "gooseberry          1\n",
       "papaya              1\n",
       "dtype: int64"
      ]
     },
     "execution_count": 111,
     "metadata": {},
     "output_type": "execute_result"
    }
   ],
   "source": [
    "# 10, alt\n",
    "\n",
    "fruited_series.value_counts()[fruited_series.value_counts() == 1]"
   ]
  },
  {
   "cell_type": "code",
   "execution_count": null,
   "id": "5bd94381",
   "metadata": {},
   "outputs": [],
   "source": [
    "## 5. Exercises Part II\n",
    "# Explore more attributes and methods while you continue to work with the fruits Series. "
   ]
  },
  {
   "cell_type": "code",
   "execution_count": 119,
   "id": "36432c17",
   "metadata": {},
   "outputs": [
    {
     "data": {
      "text/plain": [
       "0                 Kiwi\n",
       "1                Mango\n",
       "2           Strawberry\n",
       "3            Pineapple\n",
       "4           Gala Apple\n",
       "5     Honeycrisp Apple\n",
       "6               Tomato\n",
       "7           Watermelon\n",
       "8             Honeydew\n",
       "9                 Kiwi\n",
       "10                Kiwi\n",
       "11                Kiwi\n",
       "12               Mango\n",
       "13           Blueberry\n",
       "14          Blackberry\n",
       "15          Gooseberry\n",
       "16              Papaya\n",
       "dtype: object"
      ]
     },
     "execution_count": 119,
     "metadata": {},
     "output_type": "execute_result"
    }
   ],
   "source": [
    "#1 / Capitalize all the string values in fruits.\n",
    "\n",
    "fruited_series.str.title()"
   ]
  },
  {
   "cell_type": "code",
   "execution_count": 121,
   "id": "44d30ca3",
   "metadata": {},
   "outputs": [
    {
     "data": {
      "text/plain": [
       "17"
      ]
     },
     "execution_count": 121,
     "metadata": {},
     "output_type": "execute_result"
    }
   ],
   "source": [
    "#2 / Count the letter \"a\" in all the string values (use string vectorization).\n",
    "\n",
    "len(fruited_series.str.count('a'))"
   ]
  },
  {
   "cell_type": "code",
   "execution_count": 165,
   "id": "cd4ccd66",
   "metadata": {},
   "outputs": [
    {
     "data": {
      "text/plain": [
       "0     has vowel\n",
       "1     has vowel\n",
       "2     has vowel\n",
       "3     has vowel\n",
       "4     has vowel\n",
       "5     has vowel\n",
       "6     has vowel\n",
       "7     has vowel\n",
       "8     has vowel\n",
       "9     has vowel\n",
       "10    has vowel\n",
       "11    has vowel\n",
       "12    has vowel\n",
       "13    has vowel\n",
       "14    has vowel\n",
       "15    has vowel\n",
       "16    has vowel\n",
       "dtype: object"
      ]
     },
     "execution_count": 165,
     "metadata": {},
     "output_type": "execute_result"
    }
   ],
   "source": [
    "#3 / Output the number of vowels in each and every string value.\n",
    "vowels = list('aeiouy')\n",
    "\n",
    "# fruited_series[fruited_series.isin(vowels)]\n",
    "\n",
    "\n",
    "count = 0\n",
    "def num_vowels(n):\n",
    "    '''\n",
    "    this function takes a number and returns a string indicating \n",
    "    whether the passed number is even or odd.\n",
    "    '''\n",
    "    for n in vowels:\n",
    "        return 'has vowel'\n",
    "    else:\n",
    "        return 'c'\n",
    "\n",
    "fruited_series.apply(num_vowels)\n",
    "\n",
    "# this returns that each word 'has vowel'"
   ]
  },
  {
   "cell_type": "code",
   "execution_count": null,
   "id": "2580176e",
   "metadata": {},
   "outputs": [],
   "source": []
  },
  {
   "cell_type": "code",
   "execution_count": 184,
   "id": "681e1e4c",
   "metadata": {},
   "outputs": [
    {
     "data": {
      "text/plain": [
       "'papaya'"
      ]
     },
     "execution_count": 184,
     "metadata": {},
     "output_type": "execute_result"
    }
   ],
   "source": [
    "for word in fruited_series:\n",
    "    if word in 'aeiou':\n",
    "        print(word)\n",
    "letter\n",
    "\n",
    "# this prints 'papaya'"
   ]
  },
  {
   "cell_type": "code",
   "execution_count": 171,
   "id": "eb4f3a0f",
   "metadata": {},
   "outputs": [
    {
     "data": {
      "text/plain": [
       "0      4\n",
       "1      5\n",
       "2     10\n",
       "3      9\n",
       "4     10\n",
       "5     16\n",
       "6      6\n",
       "7     10\n",
       "8      8\n",
       "9      4\n",
       "10     4\n",
       "11     4\n",
       "12     5\n",
       "13     9\n",
       "14    10\n",
       "15    10\n",
       "16     6\n",
       "dtype: int64"
      ]
     },
     "execution_count": 171,
     "metadata": {},
     "output_type": "execute_result"
    }
   ],
   "source": [
    "#4 / Write the code to get the longest string value from fruits.\n",
    "\n",
    "fruited_series.str.len()\n",
    "# outputs the length of each value in the string"
   ]
  },
  {
   "cell_type": "code",
   "execution_count": 159,
   "id": "2a398f70",
   "metadata": {},
   "outputs": [
    {
     "data": {
      "text/plain": [
       "[False,\n",
       " False,\n",
       " True,\n",
       " True,\n",
       " True,\n",
       " True,\n",
       " True,\n",
       " True,\n",
       " True,\n",
       " False,\n",
       " False,\n",
       " False,\n",
       " False,\n",
       " True,\n",
       " True,\n",
       " True,\n",
       " True]"
      ]
     },
     "execution_count": 159,
     "metadata": {},
     "output_type": "execute_result"
    }
   ],
   "source": [
    "#5 / Write the code to get the string values with 5 or more letters in the name.\n",
    "\n",
    "list(fruited_series.str.len() > 5)"
   ]
  },
  {
   "cell_type": "code",
   "execution_count": 161,
   "id": "6ba549bb",
   "metadata": {
    "scrolled": true
   },
   "outputs": [
    {
     "ename": "SyntaxError",
     "evalue": "invalid syntax (1629227519.py, line 5)",
     "output_type": "error",
     "traceback": [
      "\u001b[0;36m  Input \u001b[0;32mIn [161]\u001b[0;36m\u001b[0m\n\u001b[0;31m    fruited_series.apply(lambda n: 'more than two' if n >= else 'less than two')\u001b[0m\n\u001b[0m                                                           ^\u001b[0m\n\u001b[0;31mSyntaxError\u001b[0m\u001b[0;31m:\u001b[0m invalid syntax\n"
     ]
    }
   ],
   "source": [
    "#6 / Find the fruit(s) containing the letter \"o\" two or more times.\n",
    "\n",
    "# fruited_series.apply(lambda n: 'more than or equal to two' if n >= else 'less than two')\n",
    "# SyntaxError: invalid syntax"
   ]
  },
  {
   "cell_type": "code",
   "execution_count": 190,
   "id": "d4689f8d",
   "metadata": {},
   "outputs": [
    {
     "data": {
      "text/plain": [
       "0                 kiwi\n",
       "1                mango\n",
       "2           strawberry\n",
       "3            pineapple\n",
       "4           gala apple\n",
       "5     honeycrisp apple\n",
       "6               tomato\n",
       "7           watermelon\n",
       "8             honeydew\n",
       "9                 kiwi\n",
       "10                kiwi\n",
       "11                kiwi\n",
       "12               mango\n",
       "13           blueberry\n",
       "14          blackberry\n",
       "15          gooseberry\n",
       "16              papaya\n",
       "dtype: object"
      ]
     },
     "execution_count": 190,
     "metadata": {},
     "output_type": "execute_result"
    }
   ],
   "source": [
    "vowels = list('aeiouy')\n",
    "fruited_series[~fruited_series.isin(vowels)]"
   ]
  },
  {
   "cell_type": "code",
   "execution_count": null,
   "id": "da17d7f0",
   "metadata": {},
   "outputs": [],
   "source": []
  },
  {
   "cell_type": "code",
   "execution_count": null,
   "id": "5aa737d6",
   "metadata": {},
   "outputs": [],
   "source": [
    "#7 / Write the code to get only the string values containing the substring \"berry\".\n",
    "\n",
    "    "
   ]
  },
  {
   "cell_type": "code",
   "execution_count": null,
   "id": "9465e741",
   "metadata": {},
   "outputs": [],
   "source": [
    "#8 / Write the code to get only the string values containing the substring \"apple\".\n",
    "\n"
   ]
  },
  {
   "cell_type": "code",
   "execution_count": null,
   "id": "6e8e26cd",
   "metadata": {},
   "outputs": [],
   "source": [
    "#9 / Which string value contains the most vowels?"
   ]
  }
 ],
 "metadata": {
  "kernelspec": {
   "display_name": "Python 3 (ipykernel)",
   "language": "python",
   "name": "python3"
  },
  "language_info": {
   "codemirror_mode": {
    "name": "ipython",
    "version": 3
   },
   "file_extension": ".py",
   "mimetype": "text/x-python",
   "name": "python",
   "nbconvert_exporter": "python",
   "pygments_lexer": "ipython3",
   "version": "3.9.13"
  }
 },
 "nbformat": 4,
 "nbformat_minor": 5
}
